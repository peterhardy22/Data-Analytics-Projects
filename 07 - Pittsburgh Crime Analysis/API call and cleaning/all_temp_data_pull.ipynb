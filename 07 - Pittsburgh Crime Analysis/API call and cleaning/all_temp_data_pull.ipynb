{
 "cells": [
  {
   "cell_type": "code",
   "execution_count": 1,
   "metadata": {},
   "outputs": [],
   "source": [
    "# Import Dependencies\n",
    "import matplotlib.pyplot as plt\n",
    "import matplotlib.patches as mpatches\n",
    "import pandas as pd\n",
    "import numpy as np\n",
    "import requests\n",
    "import time\n",
    "from datetime import date\n",
    "import calendar\n",
    "import datetime\n"
   ]
  },
  {
   "cell_type": "code",
   "execution_count": 2,
   "metadata": {},
   "outputs": [],
   "source": [
    "start = datetime.datetime.strptime(\"2016-02-12\", \"%Y-%m-%d\")\n",
    "end = datetime.datetime.strptime(\"2018-12-31\", \"%Y-%m-%d\")\n",
    "\n",
    "dates_obj = [start + datetime.timedelta(days=x) for x in range(0, (end-start).days)]\n",
    "dates = []\n",
    "for date in dates_obj:\n",
    "    dates.append(str(date).split(' ')[0])\n",
    "    \n",
    "len(dates)\n",
    "all_dates_df = pd.DataFrame({'Date':dates})\n",
    "all_dates_df['Year'] = ''\n",
    "\n",
    "for i, r in all_dates_df.iterrows():\n",
    "    r.Year = r.Date.split('-')[0]\n",
    "\n",
    "# all_dates_df.Date[0:5]   "
   ]
  },
  {
   "cell_type": "code",
   "execution_count": null,
   "metadata": {},
   "outputs": [],
   "source": []
  },
  {
   "cell_type": "code",
   "execution_count": 19,
   "metadata": {},
   "outputs": [],
   "source": [
    "##\n",
    "\n",
    "all_dates_df['Temperature'] = ''\n",
    "all_dates_df['Weather Condition'] = ''\n",
    "\n",
    "query_s = \"https://api.darksky.net/forecast/97b8ebcb27f7f6d97ca996ae6ac70cb4/40,-80,\"\n",
    "query_l = \"https://api.darksky.net/forecast/88525f0474694aa5ce64d029324d27a0/40,-80,\"\n",
    "query_p = \"https://api.darksky.net/forecast/da05785ed5c03154227fe35a55e037ce/40,-80,\"\n",
    "\n",
    "\n",
    "query3 = \"T12:00:00\"\n",
    "\n",
    "\n",
    "\n",
    "for i, r in all_dates_df.iterrows():\n",
    "#2016 data\n",
    "    if r.Year == all_dates_df.Year.unique()[0]:\n",
    "        url = query_s + r.Date + query3\n",
    "        response = requests.get(url).json()\n",
    "        try:\n",
    "            all_dates_df['Weather Condition'][i] = response['currently']['summary']\n",
    "        except KeyError:\n",
    "            all_dates_df['Weather Condition'][i] = ''\n",
    "            missing_data_indecies.append(i)\n",
    "        try:\n",
    "            r.Temperature = response['currently']['temperature']\n",
    "        except KeyError:\n",
    "            r.Temperature = ''\n",
    "            missing_data_indecies.append(i)\n",
    "            \n",
    "#2017\n",
    "\n",
    "    elif r.Year == all_dates_df.Year.unique()[1]:\n",
    "        url = query_l + r.Date + query3\n",
    "        response = requests.get(url).json()\n",
    "        try:\n",
    "            all_dates_df['Weather Condition'][i] = response['currently']['summary']\n",
    "        except KeyError:\n",
    "            all_dates_df['Weather Condition'][i] = ''\n",
    "            missing_data_indecies.append(i)\n",
    "        try:\n",
    "            r.Temperature = response['currently']['temperature']\n",
    "        except KeyError:\n",
    "            r.Temperature = ''\n",
    "            missing_data_indecies.append(i)\n",
    "        \n",
    "#2018\n",
    "\n",
    "    elif r.Year == all_dates_df.Year.unique()[2]:\n",
    "        url = query_p + r.Date + query3\n",
    "        response = requests.get(url).json()\n",
    "        try:\n",
    "            all_dates_df['Weather Condition'][i] = response['currently']['summary']\n",
    "        except KeyError:\n",
    "            all_dates_df['Weather Condition'][i] = ''\n",
    "            missing_data_indecies.append(i)\n",
    "        try:\n",
    "            r.Temperature = response['currently']['temperature']\n",
    "        except KeyError:\n",
    "            r.Temperature = ''\n",
    "            missing_data_indecies.append(i)\n",
    "        \n",
    "        \n"
   ]
  },
  {
   "cell_type": "code",
   "execution_count": 36,
   "metadata": {},
   "outputs": [],
   "source": [
    "all_dates_df.to_csv('../all_date_temp_data.csv')"
   ]
  },
  {
   "cell_type": "code",
   "execution_count": 28,
   "metadata": {},
   "outputs": [
    {
     "data": {
      "text/plain": [
       "[861, 867, 893]"
      ]
     },
     "execution_count": 28,
     "metadata": {},
     "output_type": "execute_result"
    }
   ],
   "source": [
    "i = 0\n",
    "md = []\n",
    "while i < len(missing_data_indecies):\n",
    "    md.append(missing_data_indecies[i])\n",
    "    i+=2\n",
    "    \n",
    "for x in md:\n",
    "    print(all_dates_df.iloc[x])"
   ]
  },
  {
   "cell_type": "code",
   "execution_count": 35,
   "metadata": {},
   "outputs": [
    {
     "data": {
      "text/plain": [
       "Date                 1053\n",
       "Year                 1053\n",
       "Temperature          1053\n",
       "Weather Condition    1053\n",
       "dtype: int64"
      ]
     },
     "execution_count": 35,
     "metadata": {},
     "output_type": "execute_result"
    }
   ],
   "source": [
    "all_dates_df.count()\n",
    "\n"
   ]
  },
  {
   "cell_type": "code",
   "execution_count": null,
   "metadata": {},
   "outputs": [],
   "source": []
  }
 ],
 "metadata": {
  "kernelspec": {
   "display_name": "Python 3",
   "language": "python",
   "name": "python3"
  },
  "language_info": {
   "codemirror_mode": {
    "name": "ipython",
    "version": 3
   },
   "file_extension": ".py",
   "mimetype": "text/x-python",
   "name": "python",
   "nbconvert_exporter": "python",
   "pygments_lexer": "ipython3",
   "version": "3.7.1"
  }
 },
 "nbformat": 4,
 "nbformat_minor": 2
}
