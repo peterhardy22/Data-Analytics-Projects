{
 "cells": [
  {
   "cell_type": "markdown",
   "metadata": {},
   "source": [
    "# PyCity Schools Analysis\n",
    "\n",
    "* As a whole, schools with higher budgets, did not yield better test results. By contrast, schools with higher spending per student actually (\\$645-675) underperformed compared to schools with smaller budgets (<\\$585 per student).\n",
    "\n",
    "* As a whole, smaller and medium sized schools dramatically out-performed large sized schools on passing math performances (89-91% passing vs 67%).\n",
    "\n",
    "* As a whole, charter schools out-performed the public district schools across all metrics. However, more analysis will be required to glean if the effect is due to school practices or the fact that charter schools tend to serve smaller student populations per school. \n",
    "---"
   ]
  },
  {
   "cell_type": "markdown",
   "metadata": {},
   "source": [
    "### Note\n",
    "* Instructions have been included for each segment. You do not have to follow them exactly, but they are included to help you think through the steps."
   ]
  },
  {
   "cell_type": "code",
   "execution_count": 1,
   "metadata": {},
   "outputs": [],
   "source": [
    "# Dependencies and Setup\n",
    "import pandas as pd\n",
    "import numpy as np\n",
    "\n",
    "# File to Load (Remember to Change These)\n",
    "school_data_to_load = \"Resources/schools_complete.csv\"\n",
    "student_data_to_load = \"Resources/students_complete.csv\"\n",
    "\n",
    "# Read School and Student Data File and store into Pandas Data Frames\n",
    "school_data = pd.read_csv(school_data_to_load)\n",
    "student_data = pd.read_csv(student_data_to_load)\n",
    "\n",
    "# Combine the data into a single dataset\n",
    "school_data_complete = pd.merge(student_data, school_data, how=\"left\", on=[\"school_name\", \"school_name\"])"
   ]
  },
  {
   "cell_type": "markdown",
   "metadata": {},
   "source": [
    "## District Summary\n",
    "\n",
    "* Calculate the total number of schools\n",
    "\n",
    "* Calculate the total number of students\n",
    "\n",
    "* Calculate the total budget\n",
    "\n",
    "* Calculate the average math score \n",
    "\n",
    "* Calculate the average reading score\n",
    "\n",
    "* Calculate the overall passing rate (overall average score), i.e. (avg. math score + avg. reading score)/2\n",
    "\n",
    "* Calculate the percentage of students with a passing math score (70 or greater)\n",
    "\n",
    "* Calculate the percentage of students with a passing reading score (70 or greater)\n",
    "\n",
    "* Create a dataframe to hold the above results\n",
    "\n",
    "* Optional: give the displayed data cleaner formatting"
   ]
  },
  {
   "cell_type": "code",
   "execution_count": 2,
   "metadata": {},
   "outputs": [
    {
     "data": {
      "text/html": [
       "<div>\n",
       "<style scoped>\n",
       "    .dataframe tbody tr th:only-of-type {\n",
       "        vertical-align: middle;\n",
       "    }\n",
       "\n",
       "    .dataframe tbody tr th {\n",
       "        vertical-align: top;\n",
       "    }\n",
       "\n",
       "    .dataframe thead th {\n",
       "        text-align: right;\n",
       "    }\n",
       "</style>\n",
       "<table border=\"1\" class=\"dataframe\">\n",
       "  <thead>\n",
       "    <tr style=\"text-align: right;\">\n",
       "      <th></th>\n",
       "      <th>Student ID</th>\n",
       "      <th>student_name</th>\n",
       "      <th>gender</th>\n",
       "      <th>grade</th>\n",
       "      <th>school_name</th>\n",
       "      <th>reading_score</th>\n",
       "      <th>math_score</th>\n",
       "      <th>School ID</th>\n",
       "      <th>type</th>\n",
       "      <th>size</th>\n",
       "      <th>budget</th>\n",
       "    </tr>\n",
       "  </thead>\n",
       "  <tbody>\n",
       "    <tr>\n",
       "      <th>0</th>\n",
       "      <td>0</td>\n",
       "      <td>Paul Bradley</td>\n",
       "      <td>M</td>\n",
       "      <td>9th</td>\n",
       "      <td>Huang High School</td>\n",
       "      <td>66</td>\n",
       "      <td>79</td>\n",
       "      <td>0</td>\n",
       "      <td>District</td>\n",
       "      <td>2917</td>\n",
       "      <td>1910635</td>\n",
       "    </tr>\n",
       "    <tr>\n",
       "      <th>1</th>\n",
       "      <td>1</td>\n",
       "      <td>Victor Smith</td>\n",
       "      <td>M</td>\n",
       "      <td>12th</td>\n",
       "      <td>Huang High School</td>\n",
       "      <td>94</td>\n",
       "      <td>61</td>\n",
       "      <td>0</td>\n",
       "      <td>District</td>\n",
       "      <td>2917</td>\n",
       "      <td>1910635</td>\n",
       "    </tr>\n",
       "    <tr>\n",
       "      <th>2</th>\n",
       "      <td>2</td>\n",
       "      <td>Kevin Rodriguez</td>\n",
       "      <td>M</td>\n",
       "      <td>12th</td>\n",
       "      <td>Huang High School</td>\n",
       "      <td>90</td>\n",
       "      <td>60</td>\n",
       "      <td>0</td>\n",
       "      <td>District</td>\n",
       "      <td>2917</td>\n",
       "      <td>1910635</td>\n",
       "    </tr>\n",
       "    <tr>\n",
       "      <th>3</th>\n",
       "      <td>3</td>\n",
       "      <td>Dr. Richard Scott</td>\n",
       "      <td>M</td>\n",
       "      <td>12th</td>\n",
       "      <td>Huang High School</td>\n",
       "      <td>67</td>\n",
       "      <td>58</td>\n",
       "      <td>0</td>\n",
       "      <td>District</td>\n",
       "      <td>2917</td>\n",
       "      <td>1910635</td>\n",
       "    </tr>\n",
       "    <tr>\n",
       "      <th>4</th>\n",
       "      <td>4</td>\n",
       "      <td>Bonnie Ray</td>\n",
       "      <td>F</td>\n",
       "      <td>9th</td>\n",
       "      <td>Huang High School</td>\n",
       "      <td>97</td>\n",
       "      <td>84</td>\n",
       "      <td>0</td>\n",
       "      <td>District</td>\n",
       "      <td>2917</td>\n",
       "      <td>1910635</td>\n",
       "    </tr>\n",
       "  </tbody>\n",
       "</table>\n",
       "</div>"
      ],
      "text/plain": [
       "   Student ID       student_name gender grade        school_name  \\\n",
       "0           0       Paul Bradley      M   9th  Huang High School   \n",
       "1           1       Victor Smith      M  12th  Huang High School   \n",
       "2           2    Kevin Rodriguez      M  12th  Huang High School   \n",
       "3           3  Dr. Richard Scott      M  12th  Huang High School   \n",
       "4           4         Bonnie Ray      F   9th  Huang High School   \n",
       "\n",
       "   reading_score  math_score  School ID      type  size   budget  \n",
       "0             66          79          0  District  2917  1910635  \n",
       "1             94          61          0  District  2917  1910635  \n",
       "2             90          60          0  District  2917  1910635  \n",
       "3             67          58          0  District  2917  1910635  \n",
       "4             97          84          0  District  2917  1910635  "
      ]
     },
     "execution_count": 2,
     "metadata": {},
     "output_type": "execute_result"
    }
   ],
   "source": [
    "#Display first 5 rows of pycityschools dataset\n",
    "school_data_complete.head()"
   ]
  },
  {
   "cell_type": "code",
   "execution_count": 3,
   "metadata": {},
   "outputs": [],
   "source": [
    "#Create variables for calculations\n",
    "total_schools = len(school_data_complete['school_name'].value_counts())\n",
    "\n",
    "#Calculate the Total Number of Students\n",
    "total_students = len(school_data_complete['Student ID'])\n",
    "\n",
    "#Calculate the Total Budget\n",
    "total_budget = sum(school_data_complete['budget'].unique())\n",
    "\n",
    "#Calculate the Average Math Score\n",
    "average_math_score = sum(school_data_complete['math_score']) / len(school_data_complete['math_score'])\n",
    "\n",
    "#Calculate the Average Reading Score\n",
    "average_reading_score = sum(school_data_complete['reading_score']) / len(school_data_complete['reading_score'])\n",
    "\n",
    "#Calculate the Overall Passing Rate\n",
    "overall_average_score = (average_math_score + average_reading_score) / 2\n",
    "\n",
    "#Calculate the percentage of students with a passing math score (70 or greater)\n",
    "passing_math_score = school_data_complete.loc[school_data_complete['math_score'] >= 70, :]\n",
    "passing_math_percentage = (len(passing_math_score) / total_students) * 100\n",
    "passing_math_percentage\n",
    "\n",
    "#Calculate the percentage of students with a passing reading score (70 or greater)\n",
    "passing_reading_score = school_data_complete.loc[school_data_complete['reading_score'] >= 70, :]\n",
    "passing_reading_percentage = (len(passing_reading_score) / total_students) * 100"
   ]
  },
  {
   "cell_type": "code",
   "execution_count": 4,
   "metadata": {},
   "outputs": [],
   "source": [
    "#Create DataFrame for District Summary Data\n",
    "district_summary = {\n",
    "    'Total Schools': [total_schools],'Total Students': [total_students],\n",
    "    'Total Budget': [total_budget],\n",
    "    'Average Math Score': [average_math_score],\n",
    "    'Average Reading Score': [average_reading_score],\n",
    "    '% Passing Math': [passing_math_percentage],\n",
    "    '% Passing Reading': [passing_reading_percentage],\n",
    "    '% Overall Passing Rate': [overall_average_score]\n",
    "}\n",
    "district_summary_df = pd.DataFrame(district_summary)\n"
   ]
  },
  {
   "cell_type": "code",
   "execution_count": 5,
   "metadata": {},
   "outputs": [],
   "source": [
    "#Add $, commas and two decimal points to Total Budget result\n",
    "district_summary_df[\"Total Budget\"] = district_summary_df[\"Total Budget\"].map(\"${:,.2f}\".format)\n"
   ]
  },
  {
   "cell_type": "code",
   "execution_count": 6,
   "metadata": {},
   "outputs": [],
   "source": [
    "#Round Down columns to 2 decimal places for easier comprehension\n",
    "district_summary_df[\"Average Math Score\"] = district_summary_df[\"Average Math Score\"].map(\"{:,.2f}%\".format)\n",
    "district_summary_df[\"Average Reading Score\"] = district_summary_df[\"Average Reading Score\"].map(\"{:,.2f}%\".format)\n",
    "district_summary_df[\"% Passing Math\"] = district_summary_df[\"% Passing Math\"].map(\"{:,.2f}%\".format)\n",
    "district_summary_df[\"% Passing Reading\"] = district_summary_df[\"% Passing Reading\"].map(\"{:,.2f}%\".format)\n",
    "district_summary_df[\"% Overall Passing Rate\"] = district_summary_df[\"% Overall Passing Rate\"].map(\"{:,.2f}%\".format)\n"
   ]
  },
  {
   "cell_type": "code",
   "execution_count": 7,
   "metadata": {},
   "outputs": [
    {
     "data": {
      "text/html": [
       "<div>\n",
       "<style scoped>\n",
       "    .dataframe tbody tr th:only-of-type {\n",
       "        vertical-align: middle;\n",
       "    }\n",
       "\n",
       "    .dataframe tbody tr th {\n",
       "        vertical-align: top;\n",
       "    }\n",
       "\n",
       "    .dataframe thead th {\n",
       "        text-align: right;\n",
       "    }\n",
       "</style>\n",
       "<table border=\"1\" class=\"dataframe\">\n",
       "  <thead>\n",
       "    <tr style=\"text-align: right;\">\n",
       "      <th></th>\n",
       "      <th>Total Schools</th>\n",
       "      <th>Total Students</th>\n",
       "      <th>Total Budget</th>\n",
       "      <th>Average Math Score</th>\n",
       "      <th>Average Reading Score</th>\n",
       "      <th>% Passing Math</th>\n",
       "      <th>% Passing Reading</th>\n",
       "      <th>% Overall Passing Rate</th>\n",
       "    </tr>\n",
       "  </thead>\n",
       "  <tbody>\n",
       "    <tr>\n",
       "      <th>0</th>\n",
       "      <td>15</td>\n",
       "      <td>39170</td>\n",
       "      <td>$24,649,428.00</td>\n",
       "      <td>78.99%</td>\n",
       "      <td>81.88%</td>\n",
       "      <td>74.98%</td>\n",
       "      <td>85.81%</td>\n",
       "      <td>80.43%</td>\n",
       "    </tr>\n",
       "  </tbody>\n",
       "</table>\n",
       "</div>"
      ],
      "text/plain": [
       "   Total Schools  Total Students    Total Budget Average Math Score  \\\n",
       "0             15           39170  $24,649,428.00             78.99%   \n",
       "\n",
       "  Average Reading Score % Passing Math % Passing Reading  \\\n",
       "0                81.88%         74.98%            85.81%   \n",
       "\n",
       "  % Overall Passing Rate  \n",
       "0                 80.43%  "
      ]
     },
     "execution_count": 7,
     "metadata": {},
     "output_type": "execute_result"
    }
   ],
   "source": [
    "#District Summary Table\n",
    "district_summary_df"
   ]
  },
  {
   "cell_type": "markdown",
   "metadata": {},
   "source": [
    "## School Summary"
   ]
  },
  {
   "cell_type": "markdown",
   "metadata": {},
   "source": [
    "* Create an overview table that summarizes key metrics about each school, including:\n",
    "  * School Name\n",
    "  * School Type\n",
    "  * Total Students\n",
    "  * Total School Budget\n",
    "  * Per Student Budget\n",
    "  * Average Math Score\n",
    "  * Average Reading Score\n",
    "  * % Passing Math\n",
    "  * % Passing Reading\n",
    "  * Overall Passing Rate (Average of the above two)\n",
    "  \n",
    "* Create a dataframe to hold the above results"
   ]
  },
  {
   "cell_type": "code",
   "execution_count": 8,
   "metadata": {},
   "outputs": [],
   "source": [
    "#Group data by School Name & set School Name as the index\n",
    "school_groups = school_data_complete.set_index('school_name').groupby(['school_name'])\n"
   ]
  },
  {
   "cell_type": "code",
   "execution_count": 9,
   "metadata": {},
   "outputs": [],
   "source": [
    "#Create variables for calculations \n",
    "school_type = school_data.set_index('school_name')['type']\n",
    "\n",
    "#Create variable to store total number of students at each school\n",
    "school_total_students = school_groups['Student ID'].count()\n",
    "\n",
    "#Create variable to store total school budget\n",
    "school_budget = school_data.set_index('school_name')['budget']\n",
    "\n",
    "#Create variable to calculate per student budget\n",
    "student_budget = school_data.set_index('school_name')['budget']/school_data.set_index('school_name')['size']\n",
    "\n",
    "#Create variables to store the average math and reading scores at each school\n",
    "school_average_math = school_groups['math_score'].mean()\n",
    "school_average_reading = school_groups['reading_score'].mean()\n",
    "\n",
    "#Create variables to store the percentage of students with passing scores\n",
    "school_passing_math = school_data_complete[school_data_complete['math_score'] >= 70].groupby('school_name')['Student ID'].count()/school_total_students\n",
    "school_passing_reading = school_data_complete[school_data_complete['reading_score'] >= 70].groupby('school_name')['Student ID'].count()/school_total_students \n",
    "school_overall_passing = school_data_complete[(school_data_complete['reading_score'] >= 70) & (school_data_complete['math_score'] >= 70)].groupby('school_name')['Student ID'].count()/school_total_students\n"
   ]
  },
  {
   "cell_type": "code",
   "execution_count": 10,
   "metadata": {},
   "outputs": [],
   "source": [
    "#Create DataFrame\n",
    "school_summary = pd.DataFrame({\n",
    "    \"School Type\": school_type,\n",
    "    \"Total Students\": school_total_students,\n",
    "    \"Per Student Budget\": student_budget,\n",
    "    \"Total School Budget\": school_budget,\n",
    "    \"Average Math Score\": school_average_math,\n",
    "    \"Average Reading Score\": school_average_reading,\n",
    "    \"% Passing Math\": school_passing_math,\n",
    "    \"% Passing Reading\": school_passing_reading,\n",
    "    \"% Overall Passing Rate\": school_overall_passing})"
   ]
  },
  {
   "cell_type": "code",
   "execution_count": 11,
   "metadata": {},
   "outputs": [],
   "source": [
    "#Organize Columns in correct order\n",
    "school_summary_df = school_summary[['School Type', \n",
    "                          'Total Students', \n",
    "                          'Total School Budget', \n",
    "                          'Per Student Budget', \n",
    "                          'Average Math Score', \n",
    "                          'Average Reading Score',\n",
    "                          '% Passing Math',\n",
    "                          '% Passing Reading',\n",
    "                          '% Overall Passing Rate']]"
   ]
  },
  {
   "cell_type": "code",
   "execution_count": 12,
   "metadata": {
    "scrolled": true
   },
   "outputs": [
    {
     "data": {
      "text/html": [
       "<style  type=\"text/css\" >\n",
       "</style>  \n",
       "<table id=\"T_3569e170_4b51_11e9_a53d_acde48001122\" > \n",
       "<thead>    <tr> \n",
       "        <th class=\"blank level0\" ></th> \n",
       "        <th class=\"col_heading level0 col0\" >School Type</th> \n",
       "        <th class=\"col_heading level0 col1\" >Total Students</th> \n",
       "        <th class=\"col_heading level0 col2\" >Total School Budget</th> \n",
       "        <th class=\"col_heading level0 col3\" >Per Student Budget</th> \n",
       "        <th class=\"col_heading level0 col4\" >Average Math Score</th> \n",
       "        <th class=\"col_heading level0 col5\" >Average Reading Score</th> \n",
       "        <th class=\"col_heading level0 col6\" >% Passing Math</th> \n",
       "        <th class=\"col_heading level0 col7\" >% Passing Reading</th> \n",
       "        <th class=\"col_heading level0 col8\" >% Overall Passing Rate</th> \n",
       "    </tr></thead> \n",
       "<tbody>    <tr> \n",
       "        <th id=\"T_3569e170_4b51_11e9_a53d_acde48001122level0_row0\" class=\"row_heading level0 row0\" >Bailey High School</th> \n",
       "        <td id=\"T_3569e170_4b51_11e9_a53d_acde48001122row0_col0\" class=\"data row0 col0\" >District</td> \n",
       "        <td id=\"T_3569e170_4b51_11e9_a53d_acde48001122row0_col1\" class=\"data row0 col1\" >4,976</td> \n",
       "        <td id=\"T_3569e170_4b51_11e9_a53d_acde48001122row0_col2\" class=\"data row0 col2\" >$3,124,928</td> \n",
       "        <td id=\"T_3569e170_4b51_11e9_a53d_acde48001122row0_col3\" class=\"data row0 col3\" >$628</td> \n",
       "        <td id=\"T_3569e170_4b51_11e9_a53d_acde48001122row0_col4\" class=\"data row0 col4\" >77.0</td> \n",
       "        <td id=\"T_3569e170_4b51_11e9_a53d_acde48001122row0_col5\" class=\"data row0 col5\" >81.0</td> \n",
       "        <td id=\"T_3569e170_4b51_11e9_a53d_acde48001122row0_col6\" class=\"data row0 col6\" >66.7%</td> \n",
       "        <td id=\"T_3569e170_4b51_11e9_a53d_acde48001122row0_col7\" class=\"data row0 col7\" >81.9%</td> \n",
       "        <td id=\"T_3569e170_4b51_11e9_a53d_acde48001122row0_col8\" class=\"data row0 col8\" >54.6%</td> \n",
       "    </tr>    <tr> \n",
       "        <th id=\"T_3569e170_4b51_11e9_a53d_acde48001122level0_row1\" class=\"row_heading level0 row1\" >Cabrera High School</th> \n",
       "        <td id=\"T_3569e170_4b51_11e9_a53d_acde48001122row1_col0\" class=\"data row1 col0\" >Charter</td> \n",
       "        <td id=\"T_3569e170_4b51_11e9_a53d_acde48001122row1_col1\" class=\"data row1 col1\" >1,858</td> \n",
       "        <td id=\"T_3569e170_4b51_11e9_a53d_acde48001122row1_col2\" class=\"data row1 col2\" >$1,081,356</td> \n",
       "        <td id=\"T_3569e170_4b51_11e9_a53d_acde48001122row1_col3\" class=\"data row1 col3\" >$582</td> \n",
       "        <td id=\"T_3569e170_4b51_11e9_a53d_acde48001122row1_col4\" class=\"data row1 col4\" >83.1</td> \n",
       "        <td id=\"T_3569e170_4b51_11e9_a53d_acde48001122row1_col5\" class=\"data row1 col5\" >84.0</td> \n",
       "        <td id=\"T_3569e170_4b51_11e9_a53d_acde48001122row1_col6\" class=\"data row1 col6\" >94.1%</td> \n",
       "        <td id=\"T_3569e170_4b51_11e9_a53d_acde48001122row1_col7\" class=\"data row1 col7\" >97.0%</td> \n",
       "        <td id=\"T_3569e170_4b51_11e9_a53d_acde48001122row1_col8\" class=\"data row1 col8\" >91.3%</td> \n",
       "    </tr>    <tr> \n",
       "        <th id=\"T_3569e170_4b51_11e9_a53d_acde48001122level0_row2\" class=\"row_heading level0 row2\" >Figueroa High School</th> \n",
       "        <td id=\"T_3569e170_4b51_11e9_a53d_acde48001122row2_col0\" class=\"data row2 col0\" >District</td> \n",
       "        <td id=\"T_3569e170_4b51_11e9_a53d_acde48001122row2_col1\" class=\"data row2 col1\" >2,949</td> \n",
       "        <td id=\"T_3569e170_4b51_11e9_a53d_acde48001122row2_col2\" class=\"data row2 col2\" >$1,884,411</td> \n",
       "        <td id=\"T_3569e170_4b51_11e9_a53d_acde48001122row2_col3\" class=\"data row2 col3\" >$639</td> \n",
       "        <td id=\"T_3569e170_4b51_11e9_a53d_acde48001122row2_col4\" class=\"data row2 col4\" >76.7</td> \n",
       "        <td id=\"T_3569e170_4b51_11e9_a53d_acde48001122row2_col5\" class=\"data row2 col5\" >81.2</td> \n",
       "        <td id=\"T_3569e170_4b51_11e9_a53d_acde48001122row2_col6\" class=\"data row2 col6\" >66.0%</td> \n",
       "        <td id=\"T_3569e170_4b51_11e9_a53d_acde48001122row2_col7\" class=\"data row2 col7\" >80.7%</td> \n",
       "        <td id=\"T_3569e170_4b51_11e9_a53d_acde48001122row2_col8\" class=\"data row2 col8\" >53.2%</td> \n",
       "    </tr>    <tr> \n",
       "        <th id=\"T_3569e170_4b51_11e9_a53d_acde48001122level0_row3\" class=\"row_heading level0 row3\" >Ford High School</th> \n",
       "        <td id=\"T_3569e170_4b51_11e9_a53d_acde48001122row3_col0\" class=\"data row3 col0\" >District</td> \n",
       "        <td id=\"T_3569e170_4b51_11e9_a53d_acde48001122row3_col1\" class=\"data row3 col1\" >2,739</td> \n",
       "        <td id=\"T_3569e170_4b51_11e9_a53d_acde48001122row3_col2\" class=\"data row3 col2\" >$1,763,916</td> \n",
       "        <td id=\"T_3569e170_4b51_11e9_a53d_acde48001122row3_col3\" class=\"data row3 col3\" >$644</td> \n",
       "        <td id=\"T_3569e170_4b51_11e9_a53d_acde48001122row3_col4\" class=\"data row3 col4\" >77.1</td> \n",
       "        <td id=\"T_3569e170_4b51_11e9_a53d_acde48001122row3_col5\" class=\"data row3 col5\" >80.7</td> \n",
       "        <td id=\"T_3569e170_4b51_11e9_a53d_acde48001122row3_col6\" class=\"data row3 col6\" >68.3%</td> \n",
       "        <td id=\"T_3569e170_4b51_11e9_a53d_acde48001122row3_col7\" class=\"data row3 col7\" >79.3%</td> \n",
       "        <td id=\"T_3569e170_4b51_11e9_a53d_acde48001122row3_col8\" class=\"data row3 col8\" >54.3%</td> \n",
       "    </tr>    <tr> \n",
       "        <th id=\"T_3569e170_4b51_11e9_a53d_acde48001122level0_row4\" class=\"row_heading level0 row4\" >Griffin High School</th> \n",
       "        <td id=\"T_3569e170_4b51_11e9_a53d_acde48001122row4_col0\" class=\"data row4 col0\" >Charter</td> \n",
       "        <td id=\"T_3569e170_4b51_11e9_a53d_acde48001122row4_col1\" class=\"data row4 col1\" >1,468</td> \n",
       "        <td id=\"T_3569e170_4b51_11e9_a53d_acde48001122row4_col2\" class=\"data row4 col2\" >$917,500</td> \n",
       "        <td id=\"T_3569e170_4b51_11e9_a53d_acde48001122row4_col3\" class=\"data row4 col3\" >$625</td> \n",
       "        <td id=\"T_3569e170_4b51_11e9_a53d_acde48001122row4_col4\" class=\"data row4 col4\" >83.4</td> \n",
       "        <td id=\"T_3569e170_4b51_11e9_a53d_acde48001122row4_col5\" class=\"data row4 col5\" >83.8</td> \n",
       "        <td id=\"T_3569e170_4b51_11e9_a53d_acde48001122row4_col6\" class=\"data row4 col6\" >93.4%</td> \n",
       "        <td id=\"T_3569e170_4b51_11e9_a53d_acde48001122row4_col7\" class=\"data row4 col7\" >97.1%</td> \n",
       "        <td id=\"T_3569e170_4b51_11e9_a53d_acde48001122row4_col8\" class=\"data row4 col8\" >90.6%</td> \n",
       "    </tr>    <tr> \n",
       "        <th id=\"T_3569e170_4b51_11e9_a53d_acde48001122level0_row5\" class=\"row_heading level0 row5\" >Hernandez High School</th> \n",
       "        <td id=\"T_3569e170_4b51_11e9_a53d_acde48001122row5_col0\" class=\"data row5 col0\" >District</td> \n",
       "        <td id=\"T_3569e170_4b51_11e9_a53d_acde48001122row5_col1\" class=\"data row5 col1\" >4,635</td> \n",
       "        <td id=\"T_3569e170_4b51_11e9_a53d_acde48001122row5_col2\" class=\"data row5 col2\" >$3,022,020</td> \n",
       "        <td id=\"T_3569e170_4b51_11e9_a53d_acde48001122row5_col3\" class=\"data row5 col3\" >$652</td> \n",
       "        <td id=\"T_3569e170_4b51_11e9_a53d_acde48001122row5_col4\" class=\"data row5 col4\" >77.3</td> \n",
       "        <td id=\"T_3569e170_4b51_11e9_a53d_acde48001122row5_col5\" class=\"data row5 col5\" >80.9</td> \n",
       "        <td id=\"T_3569e170_4b51_11e9_a53d_acde48001122row5_col6\" class=\"data row5 col6\" >66.8%</td> \n",
       "        <td id=\"T_3569e170_4b51_11e9_a53d_acde48001122row5_col7\" class=\"data row5 col7\" >80.9%</td> \n",
       "        <td id=\"T_3569e170_4b51_11e9_a53d_acde48001122row5_col8\" class=\"data row5 col8\" >53.5%</td> \n",
       "    </tr>    <tr> \n",
       "        <th id=\"T_3569e170_4b51_11e9_a53d_acde48001122level0_row6\" class=\"row_heading level0 row6\" >Holden High School</th> \n",
       "        <td id=\"T_3569e170_4b51_11e9_a53d_acde48001122row6_col0\" class=\"data row6 col0\" >Charter</td> \n",
       "        <td id=\"T_3569e170_4b51_11e9_a53d_acde48001122row6_col1\" class=\"data row6 col1\" >427</td> \n",
       "        <td id=\"T_3569e170_4b51_11e9_a53d_acde48001122row6_col2\" class=\"data row6 col2\" >$248,087</td> \n",
       "        <td id=\"T_3569e170_4b51_11e9_a53d_acde48001122row6_col3\" class=\"data row6 col3\" >$581</td> \n",
       "        <td id=\"T_3569e170_4b51_11e9_a53d_acde48001122row6_col4\" class=\"data row6 col4\" >83.8</td> \n",
       "        <td id=\"T_3569e170_4b51_11e9_a53d_acde48001122row6_col5\" class=\"data row6 col5\" >83.8</td> \n",
       "        <td id=\"T_3569e170_4b51_11e9_a53d_acde48001122row6_col6\" class=\"data row6 col6\" >92.5%</td> \n",
       "        <td id=\"T_3569e170_4b51_11e9_a53d_acde48001122row6_col7\" class=\"data row6 col7\" >96.3%</td> \n",
       "        <td id=\"T_3569e170_4b51_11e9_a53d_acde48001122row6_col8\" class=\"data row6 col8\" >89.2%</td> \n",
       "    </tr>    <tr> \n",
       "        <th id=\"T_3569e170_4b51_11e9_a53d_acde48001122level0_row7\" class=\"row_heading level0 row7\" >Huang High School</th> \n",
       "        <td id=\"T_3569e170_4b51_11e9_a53d_acde48001122row7_col0\" class=\"data row7 col0\" >District</td> \n",
       "        <td id=\"T_3569e170_4b51_11e9_a53d_acde48001122row7_col1\" class=\"data row7 col1\" >2,917</td> \n",
       "        <td id=\"T_3569e170_4b51_11e9_a53d_acde48001122row7_col2\" class=\"data row7 col2\" >$1,910,635</td> \n",
       "        <td id=\"T_3569e170_4b51_11e9_a53d_acde48001122row7_col3\" class=\"data row7 col3\" >$655</td> \n",
       "        <td id=\"T_3569e170_4b51_11e9_a53d_acde48001122row7_col4\" class=\"data row7 col4\" >76.6</td> \n",
       "        <td id=\"T_3569e170_4b51_11e9_a53d_acde48001122row7_col5\" class=\"data row7 col5\" >81.2</td> \n",
       "        <td id=\"T_3569e170_4b51_11e9_a53d_acde48001122row7_col6\" class=\"data row7 col6\" >65.7%</td> \n",
       "        <td id=\"T_3569e170_4b51_11e9_a53d_acde48001122row7_col7\" class=\"data row7 col7\" >81.3%</td> \n",
       "        <td id=\"T_3569e170_4b51_11e9_a53d_acde48001122row7_col8\" class=\"data row7 col8\" >53.5%</td> \n",
       "    </tr>    <tr> \n",
       "        <th id=\"T_3569e170_4b51_11e9_a53d_acde48001122level0_row8\" class=\"row_heading level0 row8\" >Johnson High School</th> \n",
       "        <td id=\"T_3569e170_4b51_11e9_a53d_acde48001122row8_col0\" class=\"data row8 col0\" >District</td> \n",
       "        <td id=\"T_3569e170_4b51_11e9_a53d_acde48001122row8_col1\" class=\"data row8 col1\" >4,761</td> \n",
       "        <td id=\"T_3569e170_4b51_11e9_a53d_acde48001122row8_col2\" class=\"data row8 col2\" >$3,094,650</td> \n",
       "        <td id=\"T_3569e170_4b51_11e9_a53d_acde48001122row8_col3\" class=\"data row8 col3\" >$650</td> \n",
       "        <td id=\"T_3569e170_4b51_11e9_a53d_acde48001122row8_col4\" class=\"data row8 col4\" >77.1</td> \n",
       "        <td id=\"T_3569e170_4b51_11e9_a53d_acde48001122row8_col5\" class=\"data row8 col5\" >81.0</td> \n",
       "        <td id=\"T_3569e170_4b51_11e9_a53d_acde48001122row8_col6\" class=\"data row8 col6\" >66.1%</td> \n",
       "        <td id=\"T_3569e170_4b51_11e9_a53d_acde48001122row8_col7\" class=\"data row8 col7\" >81.2%</td> \n",
       "        <td id=\"T_3569e170_4b51_11e9_a53d_acde48001122row8_col8\" class=\"data row8 col8\" >53.5%</td> \n",
       "    </tr>    <tr> \n",
       "        <th id=\"T_3569e170_4b51_11e9_a53d_acde48001122level0_row9\" class=\"row_heading level0 row9\" >Pena High School</th> \n",
       "        <td id=\"T_3569e170_4b51_11e9_a53d_acde48001122row9_col0\" class=\"data row9 col0\" >Charter</td> \n",
       "        <td id=\"T_3569e170_4b51_11e9_a53d_acde48001122row9_col1\" class=\"data row9 col1\" >962</td> \n",
       "        <td id=\"T_3569e170_4b51_11e9_a53d_acde48001122row9_col2\" class=\"data row9 col2\" >$585,858</td> \n",
       "        <td id=\"T_3569e170_4b51_11e9_a53d_acde48001122row9_col3\" class=\"data row9 col3\" >$609</td> \n",
       "        <td id=\"T_3569e170_4b51_11e9_a53d_acde48001122row9_col4\" class=\"data row9 col4\" >83.8</td> \n",
       "        <td id=\"T_3569e170_4b51_11e9_a53d_acde48001122row9_col5\" class=\"data row9 col5\" >84.0</td> \n",
       "        <td id=\"T_3569e170_4b51_11e9_a53d_acde48001122row9_col6\" class=\"data row9 col6\" >94.6%</td> \n",
       "        <td id=\"T_3569e170_4b51_11e9_a53d_acde48001122row9_col7\" class=\"data row9 col7\" >95.9%</td> \n",
       "        <td id=\"T_3569e170_4b51_11e9_a53d_acde48001122row9_col8\" class=\"data row9 col8\" >90.5%</td> \n",
       "    </tr>    <tr> \n",
       "        <th id=\"T_3569e170_4b51_11e9_a53d_acde48001122level0_row10\" class=\"row_heading level0 row10\" >Rodriguez High School</th> \n",
       "        <td id=\"T_3569e170_4b51_11e9_a53d_acde48001122row10_col0\" class=\"data row10 col0\" >District</td> \n",
       "        <td id=\"T_3569e170_4b51_11e9_a53d_acde48001122row10_col1\" class=\"data row10 col1\" >3,999</td> \n",
       "        <td id=\"T_3569e170_4b51_11e9_a53d_acde48001122row10_col2\" class=\"data row10 col2\" >$2,547,363</td> \n",
       "        <td id=\"T_3569e170_4b51_11e9_a53d_acde48001122row10_col3\" class=\"data row10 col3\" >$637</td> \n",
       "        <td id=\"T_3569e170_4b51_11e9_a53d_acde48001122row10_col4\" class=\"data row10 col4\" >76.8</td> \n",
       "        <td id=\"T_3569e170_4b51_11e9_a53d_acde48001122row10_col5\" class=\"data row10 col5\" >80.7</td> \n",
       "        <td id=\"T_3569e170_4b51_11e9_a53d_acde48001122row10_col6\" class=\"data row10 col6\" >66.4%</td> \n",
       "        <td id=\"T_3569e170_4b51_11e9_a53d_acde48001122row10_col7\" class=\"data row10 col7\" >80.2%</td> \n",
       "        <td id=\"T_3569e170_4b51_11e9_a53d_acde48001122row10_col8\" class=\"data row10 col8\" >53.0%</td> \n",
       "    </tr>    <tr> \n",
       "        <th id=\"T_3569e170_4b51_11e9_a53d_acde48001122level0_row11\" class=\"row_heading level0 row11\" >Shelton High School</th> \n",
       "        <td id=\"T_3569e170_4b51_11e9_a53d_acde48001122row11_col0\" class=\"data row11 col0\" >Charter</td> \n",
       "        <td id=\"T_3569e170_4b51_11e9_a53d_acde48001122row11_col1\" class=\"data row11 col1\" >1,761</td> \n",
       "        <td id=\"T_3569e170_4b51_11e9_a53d_acde48001122row11_col2\" class=\"data row11 col2\" >$1,056,600</td> \n",
       "        <td id=\"T_3569e170_4b51_11e9_a53d_acde48001122row11_col3\" class=\"data row11 col3\" >$600</td> \n",
       "        <td id=\"T_3569e170_4b51_11e9_a53d_acde48001122row11_col4\" class=\"data row11 col4\" >83.4</td> \n",
       "        <td id=\"T_3569e170_4b51_11e9_a53d_acde48001122row11_col5\" class=\"data row11 col5\" >83.7</td> \n",
       "        <td id=\"T_3569e170_4b51_11e9_a53d_acde48001122row11_col6\" class=\"data row11 col6\" >93.9%</td> \n",
       "        <td id=\"T_3569e170_4b51_11e9_a53d_acde48001122row11_col7\" class=\"data row11 col7\" >95.9%</td> \n",
       "        <td id=\"T_3569e170_4b51_11e9_a53d_acde48001122row11_col8\" class=\"data row11 col8\" >89.9%</td> \n",
       "    </tr>    <tr> \n",
       "        <th id=\"T_3569e170_4b51_11e9_a53d_acde48001122level0_row12\" class=\"row_heading level0 row12\" >Thomas High School</th> \n",
       "        <td id=\"T_3569e170_4b51_11e9_a53d_acde48001122row12_col0\" class=\"data row12 col0\" >Charter</td> \n",
       "        <td id=\"T_3569e170_4b51_11e9_a53d_acde48001122row12_col1\" class=\"data row12 col1\" >1,635</td> \n",
       "        <td id=\"T_3569e170_4b51_11e9_a53d_acde48001122row12_col2\" class=\"data row12 col2\" >$1,043,130</td> \n",
       "        <td id=\"T_3569e170_4b51_11e9_a53d_acde48001122row12_col3\" class=\"data row12 col3\" >$638</td> \n",
       "        <td id=\"T_3569e170_4b51_11e9_a53d_acde48001122row12_col4\" class=\"data row12 col4\" >83.4</td> \n",
       "        <td id=\"T_3569e170_4b51_11e9_a53d_acde48001122row12_col5\" class=\"data row12 col5\" >83.8</td> \n",
       "        <td id=\"T_3569e170_4b51_11e9_a53d_acde48001122row12_col6\" class=\"data row12 col6\" >93.3%</td> \n",
       "        <td id=\"T_3569e170_4b51_11e9_a53d_acde48001122row12_col7\" class=\"data row12 col7\" >97.3%</td> \n",
       "        <td id=\"T_3569e170_4b51_11e9_a53d_acde48001122row12_col8\" class=\"data row12 col8\" >90.9%</td> \n",
       "    </tr>    <tr> \n",
       "        <th id=\"T_3569e170_4b51_11e9_a53d_acde48001122level0_row13\" class=\"row_heading level0 row13\" >Wilson High School</th> \n",
       "        <td id=\"T_3569e170_4b51_11e9_a53d_acde48001122row13_col0\" class=\"data row13 col0\" >Charter</td> \n",
       "        <td id=\"T_3569e170_4b51_11e9_a53d_acde48001122row13_col1\" class=\"data row13 col1\" >2,283</td> \n",
       "        <td id=\"T_3569e170_4b51_11e9_a53d_acde48001122row13_col2\" class=\"data row13 col2\" >$1,319,574</td> \n",
       "        <td id=\"T_3569e170_4b51_11e9_a53d_acde48001122row13_col3\" class=\"data row13 col3\" >$578</td> \n",
       "        <td id=\"T_3569e170_4b51_11e9_a53d_acde48001122row13_col4\" class=\"data row13 col4\" >83.3</td> \n",
       "        <td id=\"T_3569e170_4b51_11e9_a53d_acde48001122row13_col5\" class=\"data row13 col5\" >84.0</td> \n",
       "        <td id=\"T_3569e170_4b51_11e9_a53d_acde48001122row13_col6\" class=\"data row13 col6\" >93.9%</td> \n",
       "        <td id=\"T_3569e170_4b51_11e9_a53d_acde48001122row13_col7\" class=\"data row13 col7\" >96.5%</td> \n",
       "        <td id=\"T_3569e170_4b51_11e9_a53d_acde48001122row13_col8\" class=\"data row13 col8\" >90.6%</td> \n",
       "    </tr>    <tr> \n",
       "        <th id=\"T_3569e170_4b51_11e9_a53d_acde48001122level0_row14\" class=\"row_heading level0 row14\" >Wright High School</th> \n",
       "        <td id=\"T_3569e170_4b51_11e9_a53d_acde48001122row14_col0\" class=\"data row14 col0\" >Charter</td> \n",
       "        <td id=\"T_3569e170_4b51_11e9_a53d_acde48001122row14_col1\" class=\"data row14 col1\" >1,800</td> \n",
       "        <td id=\"T_3569e170_4b51_11e9_a53d_acde48001122row14_col2\" class=\"data row14 col2\" >$1,049,400</td> \n",
       "        <td id=\"T_3569e170_4b51_11e9_a53d_acde48001122row14_col3\" class=\"data row14 col3\" >$583</td> \n",
       "        <td id=\"T_3569e170_4b51_11e9_a53d_acde48001122row14_col4\" class=\"data row14 col4\" >83.7</td> \n",
       "        <td id=\"T_3569e170_4b51_11e9_a53d_acde48001122row14_col5\" class=\"data row14 col5\" >84.0</td> \n",
       "        <td id=\"T_3569e170_4b51_11e9_a53d_acde48001122row14_col6\" class=\"data row14 col6\" >93.3%</td> \n",
       "        <td id=\"T_3569e170_4b51_11e9_a53d_acde48001122row14_col7\" class=\"data row14 col7\" >96.6%</td> \n",
       "        <td id=\"T_3569e170_4b51_11e9_a53d_acde48001122row14_col8\" class=\"data row14 col8\" >90.3%</td> \n",
       "    </tr></tbody> \n",
       "</table> "
      ],
      "text/plain": [
       "<pandas.io.formats.style.Styler at 0x1201141d0>"
      ]
     },
     "execution_count": 12,
     "metadata": {},
     "output_type": "execute_result"
    }
   ],
   "source": [
    "#Formatting\n",
    "school_summary_df.style.format({'Total Students': '{:,}', \n",
    "                          \"Total School Budget\": \"${:,}\", \n",
    "                          \"Per Student Budget\": \"${:.0f}\",\n",
    "                          'Average Math Score': \"{:.1f}\", \n",
    "                          'Average Reading Score': \"{:.1f}\", \n",
    "                          \"% Passing Math\": \"{:.1%}\", \n",
    "                          \"% Passing Reading\": \"{:.1%}\", \n",
    "                          \"% Overall Passing Rate\": \"{:.1%}\"})"
   ]
  },
  {
   "cell_type": "markdown",
   "metadata": {},
   "source": [
    "## Top Performing Schools (By Passing Rate)"
   ]
  },
  {
   "cell_type": "markdown",
   "metadata": {},
   "source": [
    "* Sort and display the top five schools in overall passing rate"
   ]
  },
  {
   "cell_type": "code",
   "execution_count": 13,
   "metadata": {},
   "outputs": [
    {
     "data": {
      "text/html": [
       "<style  type=\"text/css\" >\n",
       "</style>  \n",
       "<table id=\"T_356b9e66_4b51_11e9_a53d_acde48001122\" > \n",
       "<thead>    <tr> \n",
       "        <th class=\"blank level0\" ></th> \n",
       "        <th class=\"col_heading level0 col0\" >School Type</th> \n",
       "        <th class=\"col_heading level0 col1\" >Total Students</th> \n",
       "        <th class=\"col_heading level0 col2\" >Total School Budget</th> \n",
       "        <th class=\"col_heading level0 col3\" >Per Student Budget</th> \n",
       "        <th class=\"col_heading level0 col4\" >Average Math Score</th> \n",
       "        <th class=\"col_heading level0 col5\" >Average Reading Score</th> \n",
       "        <th class=\"col_heading level0 col6\" >% Passing Math</th> \n",
       "        <th class=\"col_heading level0 col7\" >% Passing Reading</th> \n",
       "        <th class=\"col_heading level0 col8\" >% Overall Passing Rate</th> \n",
       "    </tr></thead> \n",
       "<tbody>    <tr> \n",
       "        <th id=\"T_356b9e66_4b51_11e9_a53d_acde48001122level0_row0\" class=\"row_heading level0 row0\" >Cabrera High School</th> \n",
       "        <td id=\"T_356b9e66_4b51_11e9_a53d_acde48001122row0_col0\" class=\"data row0 col0\" >Charter</td> \n",
       "        <td id=\"T_356b9e66_4b51_11e9_a53d_acde48001122row0_col1\" class=\"data row0 col1\" >1,858</td> \n",
       "        <td id=\"T_356b9e66_4b51_11e9_a53d_acde48001122row0_col2\" class=\"data row0 col2\" >$1,081,356</td> \n",
       "        <td id=\"T_356b9e66_4b51_11e9_a53d_acde48001122row0_col3\" class=\"data row0 col3\" >$582</td> \n",
       "        <td id=\"T_356b9e66_4b51_11e9_a53d_acde48001122row0_col4\" class=\"data row0 col4\" >83.1</td> \n",
       "        <td id=\"T_356b9e66_4b51_11e9_a53d_acde48001122row0_col5\" class=\"data row0 col5\" >84.0</td> \n",
       "        <td id=\"T_356b9e66_4b51_11e9_a53d_acde48001122row0_col6\" class=\"data row0 col6\" >94.1%</td> \n",
       "        <td id=\"T_356b9e66_4b51_11e9_a53d_acde48001122row0_col7\" class=\"data row0 col7\" >97.0%</td> \n",
       "        <td id=\"T_356b9e66_4b51_11e9_a53d_acde48001122row0_col8\" class=\"data row0 col8\" >91.3%</td> \n",
       "    </tr>    <tr> \n",
       "        <th id=\"T_356b9e66_4b51_11e9_a53d_acde48001122level0_row1\" class=\"row_heading level0 row1\" >Thomas High School</th> \n",
       "        <td id=\"T_356b9e66_4b51_11e9_a53d_acde48001122row1_col0\" class=\"data row1 col0\" >Charter</td> \n",
       "        <td id=\"T_356b9e66_4b51_11e9_a53d_acde48001122row1_col1\" class=\"data row1 col1\" >1,635</td> \n",
       "        <td id=\"T_356b9e66_4b51_11e9_a53d_acde48001122row1_col2\" class=\"data row1 col2\" >$1,043,130</td> \n",
       "        <td id=\"T_356b9e66_4b51_11e9_a53d_acde48001122row1_col3\" class=\"data row1 col3\" >$638</td> \n",
       "        <td id=\"T_356b9e66_4b51_11e9_a53d_acde48001122row1_col4\" class=\"data row1 col4\" >83.4</td> \n",
       "        <td id=\"T_356b9e66_4b51_11e9_a53d_acde48001122row1_col5\" class=\"data row1 col5\" >83.8</td> \n",
       "        <td id=\"T_356b9e66_4b51_11e9_a53d_acde48001122row1_col6\" class=\"data row1 col6\" >93.3%</td> \n",
       "        <td id=\"T_356b9e66_4b51_11e9_a53d_acde48001122row1_col7\" class=\"data row1 col7\" >97.3%</td> \n",
       "        <td id=\"T_356b9e66_4b51_11e9_a53d_acde48001122row1_col8\" class=\"data row1 col8\" >90.9%</td> \n",
       "    </tr>    <tr> \n",
       "        <th id=\"T_356b9e66_4b51_11e9_a53d_acde48001122level0_row2\" class=\"row_heading level0 row2\" >Griffin High School</th> \n",
       "        <td id=\"T_356b9e66_4b51_11e9_a53d_acde48001122row2_col0\" class=\"data row2 col0\" >Charter</td> \n",
       "        <td id=\"T_356b9e66_4b51_11e9_a53d_acde48001122row2_col1\" class=\"data row2 col1\" >1,468</td> \n",
       "        <td id=\"T_356b9e66_4b51_11e9_a53d_acde48001122row2_col2\" class=\"data row2 col2\" >$917,500</td> \n",
       "        <td id=\"T_356b9e66_4b51_11e9_a53d_acde48001122row2_col3\" class=\"data row2 col3\" >$625</td> \n",
       "        <td id=\"T_356b9e66_4b51_11e9_a53d_acde48001122row2_col4\" class=\"data row2 col4\" >83.4</td> \n",
       "        <td id=\"T_356b9e66_4b51_11e9_a53d_acde48001122row2_col5\" class=\"data row2 col5\" >83.8</td> \n",
       "        <td id=\"T_356b9e66_4b51_11e9_a53d_acde48001122row2_col6\" class=\"data row2 col6\" >93.4%</td> \n",
       "        <td id=\"T_356b9e66_4b51_11e9_a53d_acde48001122row2_col7\" class=\"data row2 col7\" >97.1%</td> \n",
       "        <td id=\"T_356b9e66_4b51_11e9_a53d_acde48001122row2_col8\" class=\"data row2 col8\" >90.6%</td> \n",
       "    </tr>    <tr> \n",
       "        <th id=\"T_356b9e66_4b51_11e9_a53d_acde48001122level0_row3\" class=\"row_heading level0 row3\" >Wilson High School</th> \n",
       "        <td id=\"T_356b9e66_4b51_11e9_a53d_acde48001122row3_col0\" class=\"data row3 col0\" >Charter</td> \n",
       "        <td id=\"T_356b9e66_4b51_11e9_a53d_acde48001122row3_col1\" class=\"data row3 col1\" >2,283</td> \n",
       "        <td id=\"T_356b9e66_4b51_11e9_a53d_acde48001122row3_col2\" class=\"data row3 col2\" >$1,319,574</td> \n",
       "        <td id=\"T_356b9e66_4b51_11e9_a53d_acde48001122row3_col3\" class=\"data row3 col3\" >$578</td> \n",
       "        <td id=\"T_356b9e66_4b51_11e9_a53d_acde48001122row3_col4\" class=\"data row3 col4\" >83.3</td> \n",
       "        <td id=\"T_356b9e66_4b51_11e9_a53d_acde48001122row3_col5\" class=\"data row3 col5\" >84.0</td> \n",
       "        <td id=\"T_356b9e66_4b51_11e9_a53d_acde48001122row3_col6\" class=\"data row3 col6\" >93.9%</td> \n",
       "        <td id=\"T_356b9e66_4b51_11e9_a53d_acde48001122row3_col7\" class=\"data row3 col7\" >96.5%</td> \n",
       "        <td id=\"T_356b9e66_4b51_11e9_a53d_acde48001122row3_col8\" class=\"data row3 col8\" >90.6%</td> \n",
       "    </tr>    <tr> \n",
       "        <th id=\"T_356b9e66_4b51_11e9_a53d_acde48001122level0_row4\" class=\"row_heading level0 row4\" >Pena High School</th> \n",
       "        <td id=\"T_356b9e66_4b51_11e9_a53d_acde48001122row4_col0\" class=\"data row4 col0\" >Charter</td> \n",
       "        <td id=\"T_356b9e66_4b51_11e9_a53d_acde48001122row4_col1\" class=\"data row4 col1\" >962</td> \n",
       "        <td id=\"T_356b9e66_4b51_11e9_a53d_acde48001122row4_col2\" class=\"data row4 col2\" >$585,858</td> \n",
       "        <td id=\"T_356b9e66_4b51_11e9_a53d_acde48001122row4_col3\" class=\"data row4 col3\" >$609</td> \n",
       "        <td id=\"T_356b9e66_4b51_11e9_a53d_acde48001122row4_col4\" class=\"data row4 col4\" >83.8</td> \n",
       "        <td id=\"T_356b9e66_4b51_11e9_a53d_acde48001122row4_col5\" class=\"data row4 col5\" >84.0</td> \n",
       "        <td id=\"T_356b9e66_4b51_11e9_a53d_acde48001122row4_col6\" class=\"data row4 col6\" >94.6%</td> \n",
       "        <td id=\"T_356b9e66_4b51_11e9_a53d_acde48001122row4_col7\" class=\"data row4 col7\" >95.9%</td> \n",
       "        <td id=\"T_356b9e66_4b51_11e9_a53d_acde48001122row4_col8\" class=\"data row4 col8\" >90.5%</td> \n",
       "    </tr></tbody> \n",
       "</table> "
      ],
      "text/plain": [
       "<pandas.io.formats.style.Styler at 0x120a870b8>"
      ]
     },
     "execution_count": 13,
     "metadata": {},
     "output_type": "execute_result"
    }
   ],
   "source": [
    "#Sort Values by passing rate then display the top 5 schools\n",
    "top_5_schools = school_summary_df.sort_values(\"% Overall Passing Rate\", ascending = False)\n",
    "top_5_schools.head().style.format({'Total Students': '{:,}',\n",
    "                           \"Total School Budget\": \"${:,}\", \n",
    "                           \"Per Student Budget\": \"${:.0f}\",\n",
    "                           \"Average Math Score\": \"{:.1f}\", \n",
    "                           \"Average Reading Score\": \"{:.1f}\",\n",
    "                           \"% Passing Math\": \"{:.1%}\", \n",
    "                           \"% Passing Reading\": \"{:.1%}\", \n",
    "                           \"% Overall Passing Rate\": \"{:.1%}\"})"
   ]
  },
  {
   "cell_type": "markdown",
   "metadata": {},
   "source": [
    "## Bottom Performing Schools (By Passing Rate)"
   ]
  },
  {
   "cell_type": "markdown",
   "metadata": {},
   "source": [
    "* Sort and display the five worst-performing schools"
   ]
  },
  {
   "cell_type": "code",
   "execution_count": 14,
   "metadata": {},
   "outputs": [
    {
     "data": {
      "text/html": [
       "<style  type=\"text/css\" >\n",
       "</style>  \n",
       "<table id=\"T_356d17d2_4b51_11e9_a53d_acde48001122\" > \n",
       "<thead>    <tr> \n",
       "        <th class=\"blank level0\" ></th> \n",
       "        <th class=\"col_heading level0 col0\" >School Type</th> \n",
       "        <th class=\"col_heading level0 col1\" >Total Students</th> \n",
       "        <th class=\"col_heading level0 col2\" >Total School Budget</th> \n",
       "        <th class=\"col_heading level0 col3\" >Per Student Budget</th> \n",
       "        <th class=\"col_heading level0 col4\" >Average Math Score</th> \n",
       "        <th class=\"col_heading level0 col5\" >Average Reading Score</th> \n",
       "        <th class=\"col_heading level0 col6\" >% Passing Math</th> \n",
       "        <th class=\"col_heading level0 col7\" >% Passing Reading</th> \n",
       "        <th class=\"col_heading level0 col8\" >% Overall Passing Rate</th> \n",
       "    </tr></thead> \n",
       "<tbody>    <tr> \n",
       "        <th id=\"T_356d17d2_4b51_11e9_a53d_acde48001122level0_row0\" class=\"row_heading level0 row0\" >Johnson High School</th> \n",
       "        <td id=\"T_356d17d2_4b51_11e9_a53d_acde48001122row0_col0\" class=\"data row0 col0\" >District</td> \n",
       "        <td id=\"T_356d17d2_4b51_11e9_a53d_acde48001122row0_col1\" class=\"data row0 col1\" >4,761</td> \n",
       "        <td id=\"T_356d17d2_4b51_11e9_a53d_acde48001122row0_col2\" class=\"data row0 col2\" >$3,094,650</td> \n",
       "        <td id=\"T_356d17d2_4b51_11e9_a53d_acde48001122row0_col3\" class=\"data row0 col3\" >$650</td> \n",
       "        <td id=\"T_356d17d2_4b51_11e9_a53d_acde48001122row0_col4\" class=\"data row0 col4\" >77.0725</td> \n",
       "        <td id=\"T_356d17d2_4b51_11e9_a53d_acde48001122row0_col5\" class=\"data row0 col5\" >80.9664</td> \n",
       "        <td id=\"T_356d17d2_4b51_11e9_a53d_acde48001122row0_col6\" class=\"data row0 col6\" >66.1%</td> \n",
       "        <td id=\"T_356d17d2_4b51_11e9_a53d_acde48001122row0_col7\" class=\"data row0 col7\" >81.2%</td> \n",
       "        <td id=\"T_356d17d2_4b51_11e9_a53d_acde48001122row0_col8\" class=\"data row0 col8\" >53.539%</td> \n",
       "    </tr>    <tr> \n",
       "        <th id=\"T_356d17d2_4b51_11e9_a53d_acde48001122level0_row1\" class=\"row_heading level0 row1\" >Hernandez High School</th> \n",
       "        <td id=\"T_356d17d2_4b51_11e9_a53d_acde48001122row1_col0\" class=\"data row1 col0\" >District</td> \n",
       "        <td id=\"T_356d17d2_4b51_11e9_a53d_acde48001122row1_col1\" class=\"data row1 col1\" >4,635</td> \n",
       "        <td id=\"T_356d17d2_4b51_11e9_a53d_acde48001122row1_col2\" class=\"data row1 col2\" >$3,022,020</td> \n",
       "        <td id=\"T_356d17d2_4b51_11e9_a53d_acde48001122row1_col3\" class=\"data row1 col3\" >$652</td> \n",
       "        <td id=\"T_356d17d2_4b51_11e9_a53d_acde48001122row1_col4\" class=\"data row1 col4\" >77.2898</td> \n",
       "        <td id=\"T_356d17d2_4b51_11e9_a53d_acde48001122row1_col5\" class=\"data row1 col5\" >80.9344</td> \n",
       "        <td id=\"T_356d17d2_4b51_11e9_a53d_acde48001122row1_col6\" class=\"data row1 col6\" >66.8%</td> \n",
       "        <td id=\"T_356d17d2_4b51_11e9_a53d_acde48001122row1_col7\" class=\"data row1 col7\" >80.9%</td> \n",
       "        <td id=\"T_356d17d2_4b51_11e9_a53d_acde48001122row1_col8\" class=\"data row1 col8\" >53.528%</td> \n",
       "    </tr>    <tr> \n",
       "        <th id=\"T_356d17d2_4b51_11e9_a53d_acde48001122level0_row2\" class=\"row_heading level0 row2\" >Huang High School</th> \n",
       "        <td id=\"T_356d17d2_4b51_11e9_a53d_acde48001122row2_col0\" class=\"data row2 col0\" >District</td> \n",
       "        <td id=\"T_356d17d2_4b51_11e9_a53d_acde48001122row2_col1\" class=\"data row2 col1\" >2,917</td> \n",
       "        <td id=\"T_356d17d2_4b51_11e9_a53d_acde48001122row2_col2\" class=\"data row2 col2\" >$1,910,635</td> \n",
       "        <td id=\"T_356d17d2_4b51_11e9_a53d_acde48001122row2_col3\" class=\"data row2 col3\" >$655</td> \n",
       "        <td id=\"T_356d17d2_4b51_11e9_a53d_acde48001122row2_col4\" class=\"data row2 col4\" >76.6294</td> \n",
       "        <td id=\"T_356d17d2_4b51_11e9_a53d_acde48001122row2_col5\" class=\"data row2 col5\" >81.1827</td> \n",
       "        <td id=\"T_356d17d2_4b51_11e9_a53d_acde48001122row2_col6\" class=\"data row2 col6\" >65.7%</td> \n",
       "        <td id=\"T_356d17d2_4b51_11e9_a53d_acde48001122row2_col7\" class=\"data row2 col7\" >81.3%</td> \n",
       "        <td id=\"T_356d17d2_4b51_11e9_a53d_acde48001122row2_col8\" class=\"data row2 col8\" >53.514%</td> \n",
       "    </tr>    <tr> \n",
       "        <th id=\"T_356d17d2_4b51_11e9_a53d_acde48001122level0_row3\" class=\"row_heading level0 row3\" >Figueroa High School</th> \n",
       "        <td id=\"T_356d17d2_4b51_11e9_a53d_acde48001122row3_col0\" class=\"data row3 col0\" >District</td> \n",
       "        <td id=\"T_356d17d2_4b51_11e9_a53d_acde48001122row3_col1\" class=\"data row3 col1\" >2,949</td> \n",
       "        <td id=\"T_356d17d2_4b51_11e9_a53d_acde48001122row3_col2\" class=\"data row3 col2\" >$1,884,411</td> \n",
       "        <td id=\"T_356d17d2_4b51_11e9_a53d_acde48001122row3_col3\" class=\"data row3 col3\" >$639</td> \n",
       "        <td id=\"T_356d17d2_4b51_11e9_a53d_acde48001122row3_col4\" class=\"data row3 col4\" >76.7118</td> \n",
       "        <td id=\"T_356d17d2_4b51_11e9_a53d_acde48001122row3_col5\" class=\"data row3 col5\" >81.158</td> \n",
       "        <td id=\"T_356d17d2_4b51_11e9_a53d_acde48001122row3_col6\" class=\"data row3 col6\" >66.0%</td> \n",
       "        <td id=\"T_356d17d2_4b51_11e9_a53d_acde48001122row3_col7\" class=\"data row3 col7\" >80.7%</td> \n",
       "        <td id=\"T_356d17d2_4b51_11e9_a53d_acde48001122row3_col8\" class=\"data row3 col8\" >53.204%</td> \n",
       "    </tr>    <tr> \n",
       "        <th id=\"T_356d17d2_4b51_11e9_a53d_acde48001122level0_row4\" class=\"row_heading level0 row4\" >Rodriguez High School</th> \n",
       "        <td id=\"T_356d17d2_4b51_11e9_a53d_acde48001122row4_col0\" class=\"data row4 col0\" >District</td> \n",
       "        <td id=\"T_356d17d2_4b51_11e9_a53d_acde48001122row4_col1\" class=\"data row4 col1\" >3,999</td> \n",
       "        <td id=\"T_356d17d2_4b51_11e9_a53d_acde48001122row4_col2\" class=\"data row4 col2\" >$2,547,363</td> \n",
       "        <td id=\"T_356d17d2_4b51_11e9_a53d_acde48001122row4_col3\" class=\"data row4 col3\" >$637</td> \n",
       "        <td id=\"T_356d17d2_4b51_11e9_a53d_acde48001122row4_col4\" class=\"data row4 col4\" >76.8427</td> \n",
       "        <td id=\"T_356d17d2_4b51_11e9_a53d_acde48001122row4_col5\" class=\"data row4 col5\" >80.7447</td> \n",
       "        <td id=\"T_356d17d2_4b51_11e9_a53d_acde48001122row4_col6\" class=\"data row4 col6\" >66.4%</td> \n",
       "        <td id=\"T_356d17d2_4b51_11e9_a53d_acde48001122row4_col7\" class=\"data row4 col7\" >80.2%</td> \n",
       "        <td id=\"T_356d17d2_4b51_11e9_a53d_acde48001122row4_col8\" class=\"data row4 col8\" >52.988%</td> \n",
       "    </tr></tbody> \n",
       "</table> "
      ],
      "text/plain": [
       "<pandas.io.formats.style.Styler at 0x120e9f908>"
      ]
     },
     "execution_count": 14,
     "metadata": {},
     "output_type": "execute_result"
    }
   ],
   "source": [
    "#Sort Values by passing rate then display the bottom 5 schools\n",
    "bottom_5_schools = top_5_schools.tail()\n",
    "bottom_5_schools = bottom_5_schools.sort_values('% Overall Passing Rate', ascending=False)\n",
    "bottom_5_schools.style.format({'Total Students': '{:,}', \n",
    "                       \"Total School Budget\": \"${:,}\", \n",
    "                       \"Per Student Budget\": \"${:.0f}\", \n",
    "                       \"% Passing Math\": \"{:.1%}\", \n",
    "                       \"% Passing Reading\": \"{:.1%}\", \n",
    "                       \"% Overall Passing Rate\": \"{:.3%}\"})"
   ]
  },
  {
   "cell_type": "markdown",
   "metadata": {
    "collapsed": true
   },
   "source": [
    "## Math Scores by Grade"
   ]
  },
  {
   "cell_type": "markdown",
   "metadata": {},
   "source": [
    "* Create a table that lists the average Reading Score for students of each grade level (9th, 10th, 11th, 12th) at each school.\n",
    "\n",
    "  * Create a pandas series for each grade. Hint: use a conditional statement.\n",
    "  \n",
    "  * Group each series by school\n",
    "  \n",
    "  * Combine the series into a dataframe\n",
    "  \n",
    "  * Optional: give the displayed data cleaner formatting"
   ]
  },
  {
   "cell_type": "code",
   "execution_count": 36,
   "metadata": {},
   "outputs": [],
   "source": [
    "#Create variables for each grade level average math scores per school \n",
    "ninth_math = student_data.loc[student_data['grade'] == '9th'].groupby('school_name')[\"math_score\"].mean()\n",
    "tenth_math = student_data.loc[student_data['grade'] == '10th'].groupby('school_name')[\"math_score\"].mean()\n",
    "eleventh_math = student_data.loc[student_data['grade'] == '11th'].groupby('school_name')[\"math_score\"].mean()\n",
    "twelfth_math = student_data.loc[student_data['grade'] == '12th'].groupby('school_name')[\"math_score\"].mean()\n"
   ]
  },
  {
   "cell_type": "code",
   "execution_count": 37,
   "metadata": {},
   "outputs": [
    {
     "data": {
      "text/html": [
       "<style  type=\"text/css\" >\n",
       "</style>  \n",
       "<table id=\"T_a20a1110_4b51_11e9_a53d_acde48001122\" > \n",
       "<thead>    <tr> \n",
       "        <th class=\"blank level0\" ></th> \n",
       "        <th class=\"col_heading level0 col0\" >9th</th> \n",
       "        <th class=\"col_heading level0 col1\" >10th</th> \n",
       "        <th class=\"col_heading level0 col2\" >11th</th> \n",
       "        <th class=\"col_heading level0 col3\" >12th</th> \n",
       "    </tr>    <tr> \n",
       "        <th class=\"index_name level0\" >School</th> \n",
       "        <th class=\"blank\" ></th> \n",
       "        <th class=\"blank\" ></th> \n",
       "        <th class=\"blank\" ></th> \n",
       "        <th class=\"blank\" ></th> \n",
       "    </tr></thead> \n",
       "<tbody>    <tr> \n",
       "        <th id=\"T_a20a1110_4b51_11e9_a53d_acde48001122level0_row0\" class=\"row_heading level0 row0\" >Bailey High School</th> \n",
       "        <td id=\"T_a20a1110_4b51_11e9_a53d_acde48001122row0_col0\" class=\"data row0 col0\" >77.1</td> \n",
       "        <td id=\"T_a20a1110_4b51_11e9_a53d_acde48001122row0_col1\" class=\"data row0 col1\" >77.0</td> \n",
       "        <td id=\"T_a20a1110_4b51_11e9_a53d_acde48001122row0_col2\" class=\"data row0 col2\" >77.5</td> \n",
       "        <td id=\"T_a20a1110_4b51_11e9_a53d_acde48001122row0_col3\" class=\"data row0 col3\" >76.5</td> \n",
       "    </tr>    <tr> \n",
       "        <th id=\"T_a20a1110_4b51_11e9_a53d_acde48001122level0_row1\" class=\"row_heading level0 row1\" >Cabrera High School</th> \n",
       "        <td id=\"T_a20a1110_4b51_11e9_a53d_acde48001122row1_col0\" class=\"data row1 col0\" >83.1</td> \n",
       "        <td id=\"T_a20a1110_4b51_11e9_a53d_acde48001122row1_col1\" class=\"data row1 col1\" >83.2</td> \n",
       "        <td id=\"T_a20a1110_4b51_11e9_a53d_acde48001122row1_col2\" class=\"data row1 col2\" >82.8</td> \n",
       "        <td id=\"T_a20a1110_4b51_11e9_a53d_acde48001122row1_col3\" class=\"data row1 col3\" >83.3</td> \n",
       "    </tr>    <tr> \n",
       "        <th id=\"T_a20a1110_4b51_11e9_a53d_acde48001122level0_row2\" class=\"row_heading level0 row2\" >Figueroa High School</th> \n",
       "        <td id=\"T_a20a1110_4b51_11e9_a53d_acde48001122row2_col0\" class=\"data row2 col0\" >76.4</td> \n",
       "        <td id=\"T_a20a1110_4b51_11e9_a53d_acde48001122row2_col1\" class=\"data row2 col1\" >76.5</td> \n",
       "        <td id=\"T_a20a1110_4b51_11e9_a53d_acde48001122row2_col2\" class=\"data row2 col2\" >76.9</td> \n",
       "        <td id=\"T_a20a1110_4b51_11e9_a53d_acde48001122row2_col3\" class=\"data row2 col3\" >77.2</td> \n",
       "    </tr>    <tr> \n",
       "        <th id=\"T_a20a1110_4b51_11e9_a53d_acde48001122level0_row3\" class=\"row_heading level0 row3\" >Ford High School</th> \n",
       "        <td id=\"T_a20a1110_4b51_11e9_a53d_acde48001122row3_col0\" class=\"data row3 col0\" >77.4</td> \n",
       "        <td id=\"T_a20a1110_4b51_11e9_a53d_acde48001122row3_col1\" class=\"data row3 col1\" >77.7</td> \n",
       "        <td id=\"T_a20a1110_4b51_11e9_a53d_acde48001122row3_col2\" class=\"data row3 col2\" >76.9</td> \n",
       "        <td id=\"T_a20a1110_4b51_11e9_a53d_acde48001122row3_col3\" class=\"data row3 col3\" >76.2</td> \n",
       "    </tr>    <tr> \n",
       "        <th id=\"T_a20a1110_4b51_11e9_a53d_acde48001122level0_row4\" class=\"row_heading level0 row4\" >Griffin High School</th> \n",
       "        <td id=\"T_a20a1110_4b51_11e9_a53d_acde48001122row4_col0\" class=\"data row4 col0\" >82.0</td> \n",
       "        <td id=\"T_a20a1110_4b51_11e9_a53d_acde48001122row4_col1\" class=\"data row4 col1\" >84.2</td> \n",
       "        <td id=\"T_a20a1110_4b51_11e9_a53d_acde48001122row4_col2\" class=\"data row4 col2\" >83.8</td> \n",
       "        <td id=\"T_a20a1110_4b51_11e9_a53d_acde48001122row4_col3\" class=\"data row4 col3\" >83.4</td> \n",
       "    </tr>    <tr> \n",
       "        <th id=\"T_a20a1110_4b51_11e9_a53d_acde48001122level0_row5\" class=\"row_heading level0 row5\" >Hernandez High School</th> \n",
       "        <td id=\"T_a20a1110_4b51_11e9_a53d_acde48001122row5_col0\" class=\"data row5 col0\" >77.4</td> \n",
       "        <td id=\"T_a20a1110_4b51_11e9_a53d_acde48001122row5_col1\" class=\"data row5 col1\" >77.3</td> \n",
       "        <td id=\"T_a20a1110_4b51_11e9_a53d_acde48001122row5_col2\" class=\"data row5 col2\" >77.1</td> \n",
       "        <td id=\"T_a20a1110_4b51_11e9_a53d_acde48001122row5_col3\" class=\"data row5 col3\" >77.2</td> \n",
       "    </tr>    <tr> \n",
       "        <th id=\"T_a20a1110_4b51_11e9_a53d_acde48001122level0_row6\" class=\"row_heading level0 row6\" >Holden High School</th> \n",
       "        <td id=\"T_a20a1110_4b51_11e9_a53d_acde48001122row6_col0\" class=\"data row6 col0\" >83.8</td> \n",
       "        <td id=\"T_a20a1110_4b51_11e9_a53d_acde48001122row6_col1\" class=\"data row6 col1\" >83.4</td> \n",
       "        <td id=\"T_a20a1110_4b51_11e9_a53d_acde48001122row6_col2\" class=\"data row6 col2\" >85.0</td> \n",
       "        <td id=\"T_a20a1110_4b51_11e9_a53d_acde48001122row6_col3\" class=\"data row6 col3\" >82.9</td> \n",
       "    </tr>    <tr> \n",
       "        <th id=\"T_a20a1110_4b51_11e9_a53d_acde48001122level0_row7\" class=\"row_heading level0 row7\" >Huang High School</th> \n",
       "        <td id=\"T_a20a1110_4b51_11e9_a53d_acde48001122row7_col0\" class=\"data row7 col0\" >77.0</td> \n",
       "        <td id=\"T_a20a1110_4b51_11e9_a53d_acde48001122row7_col1\" class=\"data row7 col1\" >75.9</td> \n",
       "        <td id=\"T_a20a1110_4b51_11e9_a53d_acde48001122row7_col2\" class=\"data row7 col2\" >76.4</td> \n",
       "        <td id=\"T_a20a1110_4b51_11e9_a53d_acde48001122row7_col3\" class=\"data row7 col3\" >77.2</td> \n",
       "    </tr>    <tr> \n",
       "        <th id=\"T_a20a1110_4b51_11e9_a53d_acde48001122level0_row8\" class=\"row_heading level0 row8\" >Johnson High School</th> \n",
       "        <td id=\"T_a20a1110_4b51_11e9_a53d_acde48001122row8_col0\" class=\"data row8 col0\" >77.2</td> \n",
       "        <td id=\"T_a20a1110_4b51_11e9_a53d_acde48001122row8_col1\" class=\"data row8 col1\" >76.7</td> \n",
       "        <td id=\"T_a20a1110_4b51_11e9_a53d_acde48001122row8_col2\" class=\"data row8 col2\" >77.5</td> \n",
       "        <td id=\"T_a20a1110_4b51_11e9_a53d_acde48001122row8_col3\" class=\"data row8 col3\" >76.9</td> \n",
       "    </tr>    <tr> \n",
       "        <th id=\"T_a20a1110_4b51_11e9_a53d_acde48001122level0_row9\" class=\"row_heading level0 row9\" >Pena High School</th> \n",
       "        <td id=\"T_a20a1110_4b51_11e9_a53d_acde48001122row9_col0\" class=\"data row9 col0\" >83.6</td> \n",
       "        <td id=\"T_a20a1110_4b51_11e9_a53d_acde48001122row9_col1\" class=\"data row9 col1\" >83.4</td> \n",
       "        <td id=\"T_a20a1110_4b51_11e9_a53d_acde48001122row9_col2\" class=\"data row9 col2\" >84.3</td> \n",
       "        <td id=\"T_a20a1110_4b51_11e9_a53d_acde48001122row9_col3\" class=\"data row9 col3\" >84.1</td> \n",
       "    </tr>    <tr> \n",
       "        <th id=\"T_a20a1110_4b51_11e9_a53d_acde48001122level0_row10\" class=\"row_heading level0 row10\" >Rodriguez High School</th> \n",
       "        <td id=\"T_a20a1110_4b51_11e9_a53d_acde48001122row10_col0\" class=\"data row10 col0\" >76.9</td> \n",
       "        <td id=\"T_a20a1110_4b51_11e9_a53d_acde48001122row10_col1\" class=\"data row10 col1\" >76.6</td> \n",
       "        <td id=\"T_a20a1110_4b51_11e9_a53d_acde48001122row10_col2\" class=\"data row10 col2\" >76.4</td> \n",
       "        <td id=\"T_a20a1110_4b51_11e9_a53d_acde48001122row10_col3\" class=\"data row10 col3\" >77.7</td> \n",
       "    </tr>    <tr> \n",
       "        <th id=\"T_a20a1110_4b51_11e9_a53d_acde48001122level0_row11\" class=\"row_heading level0 row11\" >Shelton High School</th> \n",
       "        <td id=\"T_a20a1110_4b51_11e9_a53d_acde48001122row11_col0\" class=\"data row11 col0\" >83.4</td> \n",
       "        <td id=\"T_a20a1110_4b51_11e9_a53d_acde48001122row11_col1\" class=\"data row11 col1\" >82.9</td> \n",
       "        <td id=\"T_a20a1110_4b51_11e9_a53d_acde48001122row11_col2\" class=\"data row11 col2\" >83.4</td> \n",
       "        <td id=\"T_a20a1110_4b51_11e9_a53d_acde48001122row11_col3\" class=\"data row11 col3\" >83.8</td> \n",
       "    </tr>    <tr> \n",
       "        <th id=\"T_a20a1110_4b51_11e9_a53d_acde48001122level0_row12\" class=\"row_heading level0 row12\" >Thomas High School</th> \n",
       "        <td id=\"T_a20a1110_4b51_11e9_a53d_acde48001122row12_col0\" class=\"data row12 col0\" >83.6</td> \n",
       "        <td id=\"T_a20a1110_4b51_11e9_a53d_acde48001122row12_col1\" class=\"data row12 col1\" >83.1</td> \n",
       "        <td id=\"T_a20a1110_4b51_11e9_a53d_acde48001122row12_col2\" class=\"data row12 col2\" >83.5</td> \n",
       "        <td id=\"T_a20a1110_4b51_11e9_a53d_acde48001122row12_col3\" class=\"data row12 col3\" >83.5</td> \n",
       "    </tr>    <tr> \n",
       "        <th id=\"T_a20a1110_4b51_11e9_a53d_acde48001122level0_row13\" class=\"row_heading level0 row13\" >Wilson High School</th> \n",
       "        <td id=\"T_a20a1110_4b51_11e9_a53d_acde48001122row13_col0\" class=\"data row13 col0\" >83.1</td> \n",
       "        <td id=\"T_a20a1110_4b51_11e9_a53d_acde48001122row13_col1\" class=\"data row13 col1\" >83.7</td> \n",
       "        <td id=\"T_a20a1110_4b51_11e9_a53d_acde48001122row13_col2\" class=\"data row13 col2\" >83.2</td> \n",
       "        <td id=\"T_a20a1110_4b51_11e9_a53d_acde48001122row13_col3\" class=\"data row13 col3\" >83.0</td> \n",
       "    </tr>    <tr> \n",
       "        <th id=\"T_a20a1110_4b51_11e9_a53d_acde48001122level0_row14\" class=\"row_heading level0 row14\" >Wright High School</th> \n",
       "        <td id=\"T_a20a1110_4b51_11e9_a53d_acde48001122row14_col0\" class=\"data row14 col0\" >83.3</td> \n",
       "        <td id=\"T_a20a1110_4b51_11e9_a53d_acde48001122row14_col1\" class=\"data row14 col1\" >84.0</td> \n",
       "        <td id=\"T_a20a1110_4b51_11e9_a53d_acde48001122row14_col2\" class=\"data row14 col2\" >83.8</td> \n",
       "        <td id=\"T_a20a1110_4b51_11e9_a53d_acde48001122row14_col3\" class=\"data row14 col3\" >83.6</td> \n",
       "    </tr></tbody> \n",
       "</table> "
      ],
      "text/plain": [
       "<pandas.io.formats.style.Styler at 0x11d8d1128>"
      ]
     },
     "execution_count": 37,
     "metadata": {},
     "output_type": "execute_result"
    }
   ],
   "source": [
    "#Create DataFrame\n",
    "math_scores_by_grade = pd.DataFrame({\n",
    "        \"9th\": ninth_math,\n",
    "        \"10th\": tenth_math,\n",
    "        \"11th\": eleventh_math,\n",
    "        \"12th\": twelfth_math})\n",
    "\n",
    "math_scores_by_grade = math_scores_by_grade[['9th', '10th', '11th', '12th']]\n",
    "math_scores_by_grade.index.name = \"School\"\n",
    "\n",
    "#Formatting\n",
    "math_scores_by_grade.style.format({'9th': '{:.1f}', \n",
    "                          \"10th\": '{:.1f}', \n",
    "                          \"11th\": \"{:.1f}\", \n",
    "                          \"12th\": \"{:.1f}\"})"
   ]
  },
  {
   "cell_type": "markdown",
   "metadata": {},
   "source": [
    "## Reading Score by Grade "
   ]
  },
  {
   "cell_type": "markdown",
   "metadata": {},
   "source": [
    "* Perform the same operations as above for reading scores"
   ]
  },
  {
   "cell_type": "code",
   "execution_count": 38,
   "metadata": {},
   "outputs": [],
   "source": [
    "#Create variables for each grade level average reading scores per school \n",
    "ninth_reading = student_data.loc[student_data['grade'] == '9th'].groupby('school_name')[\"reading_score\"].mean()\n",
    "tenth_reading = student_data.loc[student_data['grade'] == '10th'].groupby('school_name')[\"reading_score\"].mean()\n",
    "eleventh_reading = student_data.loc[student_data['grade'] == '11th'].groupby('school_name')[\"reading_score\"].mean()\n",
    "twelfth_reading = student_data.loc[student_data['grade'] == '12th'].groupby('school_name')[\"reading_score\"].mean()\n"
   ]
  },
  {
   "cell_type": "code",
   "execution_count": 39,
   "metadata": {},
   "outputs": [
    {
     "data": {
      "text/html": [
       "<style  type=\"text/css\" >\n",
       "</style>  \n",
       "<table id=\"T_b5307a2c_4b51_11e9_a53d_acde48001122\" > \n",
       "<thead>    <tr> \n",
       "        <th class=\"blank level0\" ></th> \n",
       "        <th class=\"col_heading level0 col0\" >9th</th> \n",
       "        <th class=\"col_heading level0 col1\" >10th</th> \n",
       "        <th class=\"col_heading level0 col2\" >11th</th> \n",
       "        <th class=\"col_heading level0 col3\" >12th</th> \n",
       "    </tr>    <tr> \n",
       "        <th class=\"index_name level0\" >School</th> \n",
       "        <th class=\"blank\" ></th> \n",
       "        <th class=\"blank\" ></th> \n",
       "        <th class=\"blank\" ></th> \n",
       "        <th class=\"blank\" ></th> \n",
       "    </tr></thead> \n",
       "<tbody>    <tr> \n",
       "        <th id=\"T_b5307a2c_4b51_11e9_a53d_acde48001122level0_row0\" class=\"row_heading level0 row0\" >Bailey High School</th> \n",
       "        <td id=\"T_b5307a2c_4b51_11e9_a53d_acde48001122row0_col0\" class=\"data row0 col0\" >81.3</td> \n",
       "        <td id=\"T_b5307a2c_4b51_11e9_a53d_acde48001122row0_col1\" class=\"data row0 col1\" >80.9</td> \n",
       "        <td id=\"T_b5307a2c_4b51_11e9_a53d_acde48001122row0_col2\" class=\"data row0 col2\" >80.9</td> \n",
       "        <td id=\"T_b5307a2c_4b51_11e9_a53d_acde48001122row0_col3\" class=\"data row0 col3\" >80.9</td> \n",
       "    </tr>    <tr> \n",
       "        <th id=\"T_b5307a2c_4b51_11e9_a53d_acde48001122level0_row1\" class=\"row_heading level0 row1\" >Cabrera High School</th> \n",
       "        <td id=\"T_b5307a2c_4b51_11e9_a53d_acde48001122row1_col0\" class=\"data row1 col0\" >83.7</td> \n",
       "        <td id=\"T_b5307a2c_4b51_11e9_a53d_acde48001122row1_col1\" class=\"data row1 col1\" >84.3</td> \n",
       "        <td id=\"T_b5307a2c_4b51_11e9_a53d_acde48001122row1_col2\" class=\"data row1 col2\" >83.8</td> \n",
       "        <td id=\"T_b5307a2c_4b51_11e9_a53d_acde48001122row1_col3\" class=\"data row1 col3\" >84.3</td> \n",
       "    </tr>    <tr> \n",
       "        <th id=\"T_b5307a2c_4b51_11e9_a53d_acde48001122level0_row2\" class=\"row_heading level0 row2\" >Figueroa High School</th> \n",
       "        <td id=\"T_b5307a2c_4b51_11e9_a53d_acde48001122row2_col0\" class=\"data row2 col0\" >81.2</td> \n",
       "        <td id=\"T_b5307a2c_4b51_11e9_a53d_acde48001122row2_col1\" class=\"data row2 col1\" >81.4</td> \n",
       "        <td id=\"T_b5307a2c_4b51_11e9_a53d_acde48001122row2_col2\" class=\"data row2 col2\" >80.6</td> \n",
       "        <td id=\"T_b5307a2c_4b51_11e9_a53d_acde48001122row2_col3\" class=\"data row2 col3\" >81.4</td> \n",
       "    </tr>    <tr> \n",
       "        <th id=\"T_b5307a2c_4b51_11e9_a53d_acde48001122level0_row3\" class=\"row_heading level0 row3\" >Ford High School</th> \n",
       "        <td id=\"T_b5307a2c_4b51_11e9_a53d_acde48001122row3_col0\" class=\"data row3 col0\" >80.6</td> \n",
       "        <td id=\"T_b5307a2c_4b51_11e9_a53d_acde48001122row3_col1\" class=\"data row3 col1\" >81.3</td> \n",
       "        <td id=\"T_b5307a2c_4b51_11e9_a53d_acde48001122row3_col2\" class=\"data row3 col2\" >80.4</td> \n",
       "        <td id=\"T_b5307a2c_4b51_11e9_a53d_acde48001122row3_col3\" class=\"data row3 col3\" >80.7</td> \n",
       "    </tr>    <tr> \n",
       "        <th id=\"T_b5307a2c_4b51_11e9_a53d_acde48001122level0_row4\" class=\"row_heading level0 row4\" >Griffin High School</th> \n",
       "        <td id=\"T_b5307a2c_4b51_11e9_a53d_acde48001122row4_col0\" class=\"data row4 col0\" >83.4</td> \n",
       "        <td id=\"T_b5307a2c_4b51_11e9_a53d_acde48001122row4_col1\" class=\"data row4 col1\" >83.7</td> \n",
       "        <td id=\"T_b5307a2c_4b51_11e9_a53d_acde48001122row4_col2\" class=\"data row4 col2\" >84.3</td> \n",
       "        <td id=\"T_b5307a2c_4b51_11e9_a53d_acde48001122row4_col3\" class=\"data row4 col3\" >84.0</td> \n",
       "    </tr>    <tr> \n",
       "        <th id=\"T_b5307a2c_4b51_11e9_a53d_acde48001122level0_row5\" class=\"row_heading level0 row5\" >Hernandez High School</th> \n",
       "        <td id=\"T_b5307a2c_4b51_11e9_a53d_acde48001122row5_col0\" class=\"data row5 col0\" >80.9</td> \n",
       "        <td id=\"T_b5307a2c_4b51_11e9_a53d_acde48001122row5_col1\" class=\"data row5 col1\" >80.7</td> \n",
       "        <td id=\"T_b5307a2c_4b51_11e9_a53d_acde48001122row5_col2\" class=\"data row5 col2\" >81.4</td> \n",
       "        <td id=\"T_b5307a2c_4b51_11e9_a53d_acde48001122row5_col3\" class=\"data row5 col3\" >80.9</td> \n",
       "    </tr>    <tr> \n",
       "        <th id=\"T_b5307a2c_4b51_11e9_a53d_acde48001122level0_row6\" class=\"row_heading level0 row6\" >Holden High School</th> \n",
       "        <td id=\"T_b5307a2c_4b51_11e9_a53d_acde48001122row6_col0\" class=\"data row6 col0\" >83.7</td> \n",
       "        <td id=\"T_b5307a2c_4b51_11e9_a53d_acde48001122row6_col1\" class=\"data row6 col1\" >83.3</td> \n",
       "        <td id=\"T_b5307a2c_4b51_11e9_a53d_acde48001122row6_col2\" class=\"data row6 col2\" >83.8</td> \n",
       "        <td id=\"T_b5307a2c_4b51_11e9_a53d_acde48001122row6_col3\" class=\"data row6 col3\" >84.7</td> \n",
       "    </tr>    <tr> \n",
       "        <th id=\"T_b5307a2c_4b51_11e9_a53d_acde48001122level0_row7\" class=\"row_heading level0 row7\" >Huang High School</th> \n",
       "        <td id=\"T_b5307a2c_4b51_11e9_a53d_acde48001122row7_col0\" class=\"data row7 col0\" >81.3</td> \n",
       "        <td id=\"T_b5307a2c_4b51_11e9_a53d_acde48001122row7_col1\" class=\"data row7 col1\" >81.5</td> \n",
       "        <td id=\"T_b5307a2c_4b51_11e9_a53d_acde48001122row7_col2\" class=\"data row7 col2\" >81.4</td> \n",
       "        <td id=\"T_b5307a2c_4b51_11e9_a53d_acde48001122row7_col3\" class=\"data row7 col3\" >80.3</td> \n",
       "    </tr>    <tr> \n",
       "        <th id=\"T_b5307a2c_4b51_11e9_a53d_acde48001122level0_row8\" class=\"row_heading level0 row8\" >Johnson High School</th> \n",
       "        <td id=\"T_b5307a2c_4b51_11e9_a53d_acde48001122row8_col0\" class=\"data row8 col0\" >81.3</td> \n",
       "        <td id=\"T_b5307a2c_4b51_11e9_a53d_acde48001122row8_col1\" class=\"data row8 col1\" >80.8</td> \n",
       "        <td id=\"T_b5307a2c_4b51_11e9_a53d_acde48001122row8_col2\" class=\"data row8 col2\" >80.6</td> \n",
       "        <td id=\"T_b5307a2c_4b51_11e9_a53d_acde48001122row8_col3\" class=\"data row8 col3\" >81.2</td> \n",
       "    </tr>    <tr> \n",
       "        <th id=\"T_b5307a2c_4b51_11e9_a53d_acde48001122level0_row9\" class=\"row_heading level0 row9\" >Pena High School</th> \n",
       "        <td id=\"T_b5307a2c_4b51_11e9_a53d_acde48001122row9_col0\" class=\"data row9 col0\" >83.8</td> \n",
       "        <td id=\"T_b5307a2c_4b51_11e9_a53d_acde48001122row9_col1\" class=\"data row9 col1\" >83.6</td> \n",
       "        <td id=\"T_b5307a2c_4b51_11e9_a53d_acde48001122row9_col2\" class=\"data row9 col2\" >84.3</td> \n",
       "        <td id=\"T_b5307a2c_4b51_11e9_a53d_acde48001122row9_col3\" class=\"data row9 col3\" >84.6</td> \n",
       "    </tr>    <tr> \n",
       "        <th id=\"T_b5307a2c_4b51_11e9_a53d_acde48001122level0_row10\" class=\"row_heading level0 row10\" >Rodriguez High School</th> \n",
       "        <td id=\"T_b5307a2c_4b51_11e9_a53d_acde48001122row10_col0\" class=\"data row10 col0\" >81.0</td> \n",
       "        <td id=\"T_b5307a2c_4b51_11e9_a53d_acde48001122row10_col1\" class=\"data row10 col1\" >80.6</td> \n",
       "        <td id=\"T_b5307a2c_4b51_11e9_a53d_acde48001122row10_col2\" class=\"data row10 col2\" >80.9</td> \n",
       "        <td id=\"T_b5307a2c_4b51_11e9_a53d_acde48001122row10_col3\" class=\"data row10 col3\" >80.4</td> \n",
       "    </tr>    <tr> \n",
       "        <th id=\"T_b5307a2c_4b51_11e9_a53d_acde48001122level0_row11\" class=\"row_heading level0 row11\" >Shelton High School</th> \n",
       "        <td id=\"T_b5307a2c_4b51_11e9_a53d_acde48001122row11_col0\" class=\"data row11 col0\" >84.1</td> \n",
       "        <td id=\"T_b5307a2c_4b51_11e9_a53d_acde48001122row11_col1\" class=\"data row11 col1\" >83.4</td> \n",
       "        <td id=\"T_b5307a2c_4b51_11e9_a53d_acde48001122row11_col2\" class=\"data row11 col2\" >84.4</td> \n",
       "        <td id=\"T_b5307a2c_4b51_11e9_a53d_acde48001122row11_col3\" class=\"data row11 col3\" >82.8</td> \n",
       "    </tr>    <tr> \n",
       "        <th id=\"T_b5307a2c_4b51_11e9_a53d_acde48001122level0_row12\" class=\"row_heading level0 row12\" >Thomas High School</th> \n",
       "        <td id=\"T_b5307a2c_4b51_11e9_a53d_acde48001122row12_col0\" class=\"data row12 col0\" >83.7</td> \n",
       "        <td id=\"T_b5307a2c_4b51_11e9_a53d_acde48001122row12_col1\" class=\"data row12 col1\" >84.3</td> \n",
       "        <td id=\"T_b5307a2c_4b51_11e9_a53d_acde48001122row12_col2\" class=\"data row12 col2\" >83.6</td> \n",
       "        <td id=\"T_b5307a2c_4b51_11e9_a53d_acde48001122row12_col3\" class=\"data row12 col3\" >83.8</td> \n",
       "    </tr>    <tr> \n",
       "        <th id=\"T_b5307a2c_4b51_11e9_a53d_acde48001122level0_row13\" class=\"row_heading level0 row13\" >Wilson High School</th> \n",
       "        <td id=\"T_b5307a2c_4b51_11e9_a53d_acde48001122row13_col0\" class=\"data row13 col0\" >83.9</td> \n",
       "        <td id=\"T_b5307a2c_4b51_11e9_a53d_acde48001122row13_col1\" class=\"data row13 col1\" >84.0</td> \n",
       "        <td id=\"T_b5307a2c_4b51_11e9_a53d_acde48001122row13_col2\" class=\"data row13 col2\" >83.8</td> \n",
       "        <td id=\"T_b5307a2c_4b51_11e9_a53d_acde48001122row13_col3\" class=\"data row13 col3\" >84.3</td> \n",
       "    </tr>    <tr> \n",
       "        <th id=\"T_b5307a2c_4b51_11e9_a53d_acde48001122level0_row14\" class=\"row_heading level0 row14\" >Wright High School</th> \n",
       "        <td id=\"T_b5307a2c_4b51_11e9_a53d_acde48001122row14_col0\" class=\"data row14 col0\" >83.8</td> \n",
       "        <td id=\"T_b5307a2c_4b51_11e9_a53d_acde48001122row14_col1\" class=\"data row14 col1\" >83.8</td> \n",
       "        <td id=\"T_b5307a2c_4b51_11e9_a53d_acde48001122row14_col2\" class=\"data row14 col2\" >84.2</td> \n",
       "        <td id=\"T_b5307a2c_4b51_11e9_a53d_acde48001122row14_col3\" class=\"data row14 col3\" >84.1</td> \n",
       "    </tr></tbody> \n",
       "</table> "
      ],
      "text/plain": [
       "<pandas.io.formats.style.Styler at 0x120f38828>"
      ]
     },
     "execution_count": 39,
     "metadata": {},
     "output_type": "execute_result"
    }
   ],
   "source": [
    "#Create DataFrame\n",
    "reading_scores_by_grade = pd.DataFrame({\n",
    "        \"9th\": ninth_reading,\n",
    "        \"10th\": tenth_reading,\n",
    "        \"11th\": eleventh_reading,\n",
    "        \"12th\": twelfth_reading})\n",
    "\n",
    "reading_scores_by_grade = reading_scores_by_grade[['9th', '10th', '11th', '12th']]\n",
    "reading_scores_by_grade.index.name = \"School\"\n",
    "\n",
    "#Formating\n",
    "reading_scores_by_grade.style.format({'9th': '{:.1f}', \n",
    "                             \"10th\": '{:.1f}', \n",
    "                             \"11th\": \"{:.1f}\", \n",
    "                             \"12th\": \"{:.1f}\"})\n"
   ]
  },
  {
   "cell_type": "markdown",
   "metadata": {},
   "source": [
    "## Scores by School Spending"
   ]
  },
  {
   "cell_type": "markdown",
   "metadata": {},
   "source": [
    "* Create a table that breaks down school performances based on average Spending Ranges (Per Student). Use 4 reasonable bins to group school spending. Include in the table each of the following:\n",
    "  * Average Math Score\n",
    "  * Average Reading Score\n",
    "  * % Passing Math\n",
    "  * % Passing Reading\n",
    "  * Overall Passing Rate (Average of the above two)"
   ]
  },
  {
   "cell_type": "code",
   "execution_count": 17,
   "metadata": {},
   "outputs": [],
   "source": [
    "#Create bins and group names\n",
    "bins = [0, 585, 615, 645, 675]\n",
    "group_names = [\"<$585\", \"$585-615\", \"$615-645\", \"$645-675\"]\n",
    "school_data_complete['spending_bins'] = pd.cut(school_data_complete['budget']/school_data_complete['size'], bins, labels = group_names)\n"
   ]
  },
  {
   "cell_type": "code",
   "execution_count": 18,
   "metadata": {},
   "outputs": [],
   "source": [
    "#Group by spending\n",
    "spending = school_data_complete.groupby('spending_bins')\n"
   ]
  },
  {
   "cell_type": "code",
   "execution_count": 19,
   "metadata": {},
   "outputs": [],
   "source": [
    "#Creating variables for calculations\n",
    "average_math_spending = spending['math_score'].mean()\n",
    "average_reading_spending = spending['reading_score'].mean()\n",
    "passing_math_spending = school_data_complete[school_data_complete['math_score'] >= 70].groupby('spending_bins')['Student ID'].count()/spending['Student ID'].count()\n",
    "passing_reading_spending = school_data_complete[school_data_complete['reading_score'] >= 70].groupby('spending_bins')['Student ID'].count()/spending['Student ID'].count()\n",
    "overall_spending = school_data_complete[(school_data_complete['reading_score'] >= 70) & (school_data_complete['math_score'] >= 70)].groupby('spending_bins')['Student ID'].count()/spending['Student ID'].count()\n"
   ]
  },
  {
   "cell_type": "code",
   "execution_count": 20,
   "metadata": {},
   "outputs": [],
   "source": [
    "#Create Dataframe            \n",
    "scores_by_spending = pd.DataFrame({\n",
    "    \"Average Math Score\": average_math_spending,\n",
    "    \"Average Reading Score\": average_reading_spending,\n",
    "    \"% Passing Math\": passing_math_spending,\n",
    "    \"% Passing Reading\": passing_reading_spending,\n",
    "    \"% Overall Passing Rate\": overall_spending})\n",
    "            "
   ]
  },
  {
   "cell_type": "code",
   "execution_count": 21,
   "metadata": {},
   "outputs": [],
   "source": [
    "#Reorganize columns\n",
    "scores_by_spending = scores_by_spending[[\"Average Math Score\",\n",
    "                                         \"Average Reading Score\",\n",
    "                                         \"% Passing Math\",\n",
    "                                         \"% Passing Reading\",\n",
    "                                         \"% Overall Passing Rate\"]]\n",
    "\n",
    "scores_by_spending.index.name = \"Per Student Budget\"\n",
    "scores_by_spending = scores_by_spending.reindex(group_names)\n"
   ]
  },
  {
   "cell_type": "code",
   "execution_count": 22,
   "metadata": {},
   "outputs": [
    {
     "data": {
      "text/html": [
       "<style  type=\"text/css\" >\n",
       "</style>  \n",
       "<table id=\"T_35848778_4b51_11e9_a53d_acde48001122\" > \n",
       "<thead>    <tr> \n",
       "        <th class=\"blank level0\" ></th> \n",
       "        <th class=\"col_heading level0 col0\" >Average Math Score</th> \n",
       "        <th class=\"col_heading level0 col1\" >Average Reading Score</th> \n",
       "        <th class=\"col_heading level0 col2\" >% Passing Math</th> \n",
       "        <th class=\"col_heading level0 col3\" >% Passing Reading</th> \n",
       "        <th class=\"col_heading level0 col4\" >% Overall Passing Rate</th> \n",
       "    </tr>    <tr> \n",
       "        <th class=\"index_name level0\" >Per Student Budget</th> \n",
       "        <th class=\"blank\" ></th> \n",
       "        <th class=\"blank\" ></th> \n",
       "        <th class=\"blank\" ></th> \n",
       "        <th class=\"blank\" ></th> \n",
       "        <th class=\"blank\" ></th> \n",
       "    </tr></thead> \n",
       "<tbody>    <tr> \n",
       "        <th id=\"T_35848778_4b51_11e9_a53d_acde48001122level0_row0\" class=\"row_heading level0 row0\" ><$585</th> \n",
       "        <td id=\"T_35848778_4b51_11e9_a53d_acde48001122row0_col0\" class=\"data row0 col0\" >83.4</td> \n",
       "        <td id=\"T_35848778_4b51_11e9_a53d_acde48001122row0_col1\" class=\"data row0 col1\" >84.0</td> \n",
       "        <td id=\"T_35848778_4b51_11e9_a53d_acde48001122row0_col2\" class=\"data row0 col2\" >93.7%</td> \n",
       "        <td id=\"T_35848778_4b51_11e9_a53d_acde48001122row0_col3\" class=\"data row0 col3\" >96.7%</td> \n",
       "        <td id=\"T_35848778_4b51_11e9_a53d_acde48001122row0_col4\" class=\"data row0 col4\" >0.906407</td> \n",
       "    </tr>    <tr> \n",
       "        <th id=\"T_35848778_4b51_11e9_a53d_acde48001122level0_row1\" class=\"row_heading level0 row1\" >$585-615</th> \n",
       "        <td id=\"T_35848778_4b51_11e9_a53d_acde48001122row1_col0\" class=\"data row1 col0\" >83.5</td> \n",
       "        <td id=\"T_35848778_4b51_11e9_a53d_acde48001122row1_col1\" class=\"data row1 col1\" >83.8</td> \n",
       "        <td id=\"T_35848778_4b51_11e9_a53d_acde48001122row1_col2\" class=\"data row1 col2\" >94.1%</td> \n",
       "        <td id=\"T_35848778_4b51_11e9_a53d_acde48001122row1_col3\" class=\"data row1 col3\" >95.9%</td> \n",
       "        <td id=\"T_35848778_4b51_11e9_a53d_acde48001122row1_col4\" class=\"data row1 col4\" >0.901212</td> \n",
       "    </tr>    <tr> \n",
       "        <th id=\"T_35848778_4b51_11e9_a53d_acde48001122level0_row2\" class=\"row_heading level0 row2\" >$615-645</th> \n",
       "        <td id=\"T_35848778_4b51_11e9_a53d_acde48001122row2_col0\" class=\"data row2 col0\" >78.1</td> \n",
       "        <td id=\"T_35848778_4b51_11e9_a53d_acde48001122row2_col1\" class=\"data row2 col1\" >81.4</td> \n",
       "        <td id=\"T_35848778_4b51_11e9_a53d_acde48001122row2_col2\" class=\"data row2 col2\" >71.4%</td> \n",
       "        <td id=\"T_35848778_4b51_11e9_a53d_acde48001122row2_col3\" class=\"data row2 col3\" >83.6%</td> \n",
       "        <td id=\"T_35848778_4b51_11e9_a53d_acde48001122row2_col4\" class=\"data row2 col4\" >0.602893</td> \n",
       "    </tr>    <tr> \n",
       "        <th id=\"T_35848778_4b51_11e9_a53d_acde48001122level0_row3\" class=\"row_heading level0 row3\" >$645-675</th> \n",
       "        <td id=\"T_35848778_4b51_11e9_a53d_acde48001122row3_col0\" class=\"data row3 col0\" >77.0</td> \n",
       "        <td id=\"T_35848778_4b51_11e9_a53d_acde48001122row3_col1\" class=\"data row3 col1\" >81.0</td> \n",
       "        <td id=\"T_35848778_4b51_11e9_a53d_acde48001122row3_col2\" class=\"data row3 col2\" >66.2%</td> \n",
       "        <td id=\"T_35848778_4b51_11e9_a53d_acde48001122row3_col3\" class=\"data row3 col3\" >81.1%</td> \n",
       "        <td id=\"T_35848778_4b51_11e9_a53d_acde48001122row3_col4\" class=\"data row3 col4\" >0.535288</td> \n",
       "    </tr></tbody> \n",
       "</table> "
      ],
      "text/plain": [
       "<pandas.io.formats.style.Styler at 0x120f2bcf8>"
      ]
     },
     "execution_count": 22,
     "metadata": {},
     "output_type": "execute_result"
    }
   ],
   "source": [
    "#Formating\n",
    "scores_by_spending.style.format({'Average Math Score': '{:.1f}', \n",
    "                              'Average Reading Score': '{:.1f}', \n",
    "                              '% Passing Math': '{:.1%}', \n",
    "                              '% Passing Reading':'{:.1%}', \n",
    "                              '%Overall Passing Rate': '{:.1%}'})"
   ]
  },
  {
   "cell_type": "markdown",
   "metadata": {},
   "source": [
    "## Scores by School Size"
   ]
  },
  {
   "cell_type": "markdown",
   "metadata": {},
   "source": [
    "* Perform the same operations as above, based on school size."
   ]
  },
  {
   "cell_type": "code",
   "execution_count": 23,
   "metadata": {},
   "outputs": [],
   "source": [
    "#Create bins and group names\n",
    "bins = [0, 1000, 2000, 5000]\n",
    "group_names = [\"Small (<1000)\", \"Medium (1000-2000)\", \"Large (2000-5000)\"]\n",
    "school_data_complete['size_bins'] = pd.cut(school_data_complete['size'], bins, labels = group_names)"
   ]
  },
  {
   "cell_type": "code",
   "execution_count": 24,
   "metadata": {
    "scrolled": true
   },
   "outputs": [],
   "source": [
    "#Group by size\n",
    "size = school_data_complete.groupby('size_bins')"
   ]
  },
  {
   "cell_type": "code",
   "execution_count": 25,
   "metadata": {},
   "outputs": [],
   "source": [
    "#Create variables with calculations\n",
    "average_math_size = size['math_score'].mean()\n",
    "average_reading_size = size['math_score'].mean()\n",
    "passing_math_size = school_data_complete[school_data_complete['math_score'] >= 70].groupby('size_bins')['Student ID'].count()/size['Student ID'].count()\n",
    "passing_reading_size = school_data_complete[school_data_complete['reading_score'] >= 70].groupby('size_bins')['Student ID'].count()/size['Student ID'].count()\n",
    "overall_size = school_data_complete[(school_data_complete['reading_score'] >= 70) & (school_data_complete['math_score'] >= 70)].groupby('size_bins')['Student ID'].count()/size['Student ID'].count()\n"
   ]
  },
  {
   "cell_type": "code",
   "execution_count": 26,
   "metadata": {},
   "outputs": [],
   "source": [
    "#Create DataFrame           \n",
    "scores_by_size = pd.DataFrame({\n",
    "    \"Average Math Score\": average_math_size,\n",
    "    \"Average Reading Score\": average_reading_size,\n",
    "    \"% Passing Math\": passing_math_size,\n",
    "    \"% Passing Reading\": passing_reading_size,\n",
    "    \"% Overall Passing Rate\": overall_size})"
   ]
  },
  {
   "cell_type": "code",
   "execution_count": 27,
   "metadata": {},
   "outputs": [],
   "source": [
    "#Reorganizd columns\n",
    "scores_by_size = scores_by_size[[\n",
    "    \"Average Math Score\",\n",
    "    \"Average Reading Score\",\n",
    "    \"% Passing Math\",\n",
    "    \"% Passing Reading\",\n",
    "    \"% Overall Passing Rate\"]]\n",
    "\n",
    "scores_by_size.index.name = \"Total Students\"\n",
    "scores_by_size = scores_by_size.reindex(group_names)"
   ]
  },
  {
   "cell_type": "code",
   "execution_count": 28,
   "metadata": {},
   "outputs": [
    {
     "data": {
      "text/html": [
       "<style  type=\"text/css\" >\n",
       "</style>  \n",
       "<table id=\"T_358e8de0_4b51_11e9_a53d_acde48001122\" > \n",
       "<thead>    <tr> \n",
       "        <th class=\"blank level0\" ></th> \n",
       "        <th class=\"col_heading level0 col0\" >Average Math Score</th> \n",
       "        <th class=\"col_heading level0 col1\" >Average Reading Score</th> \n",
       "        <th class=\"col_heading level0 col2\" >% Passing Math</th> \n",
       "        <th class=\"col_heading level0 col3\" >% Passing Reading</th> \n",
       "        <th class=\"col_heading level0 col4\" >% Overall Passing Rate</th> \n",
       "    </tr>    <tr> \n",
       "        <th class=\"index_name level0\" >Total Students</th> \n",
       "        <th class=\"blank\" ></th> \n",
       "        <th class=\"blank\" ></th> \n",
       "        <th class=\"blank\" ></th> \n",
       "        <th class=\"blank\" ></th> \n",
       "        <th class=\"blank\" ></th> \n",
       "    </tr></thead> \n",
       "<tbody>    <tr> \n",
       "        <th id=\"T_358e8de0_4b51_11e9_a53d_acde48001122level0_row0\" class=\"row_heading level0 row0\" >Small (<1000)</th> \n",
       "        <td id=\"T_358e8de0_4b51_11e9_a53d_acde48001122row0_col0\" class=\"data row0 col0\" >83.8</td> \n",
       "        <td id=\"T_358e8de0_4b51_11e9_a53d_acde48001122row0_col1\" class=\"data row0 col1\" >83.8</td> \n",
       "        <td id=\"T_358e8de0_4b51_11e9_a53d_acde48001122row0_col2\" class=\"data row0 col2\" >94.0%</td> \n",
       "        <td id=\"T_358e8de0_4b51_11e9_a53d_acde48001122row0_col3\" class=\"data row0 col3\" >96.0%</td> \n",
       "        <td id=\"T_358e8de0_4b51_11e9_a53d_acde48001122row0_col4\" class=\"data row0 col4\" >90.1%</td> \n",
       "    </tr>    <tr> \n",
       "        <th id=\"T_358e8de0_4b51_11e9_a53d_acde48001122level0_row1\" class=\"row_heading level0 row1\" >Medium (1000-2000)</th> \n",
       "        <td id=\"T_358e8de0_4b51_11e9_a53d_acde48001122row1_col0\" class=\"data row1 col0\" >83.4</td> \n",
       "        <td id=\"T_358e8de0_4b51_11e9_a53d_acde48001122row1_col1\" class=\"data row1 col1\" >83.4</td> \n",
       "        <td id=\"T_358e8de0_4b51_11e9_a53d_acde48001122row1_col2\" class=\"data row1 col2\" >93.6%</td> \n",
       "        <td id=\"T_358e8de0_4b51_11e9_a53d_acde48001122row1_col3\" class=\"data row1 col3\" >96.8%</td> \n",
       "        <td id=\"T_358e8de0_4b51_11e9_a53d_acde48001122row1_col4\" class=\"data row1 col4\" >90.6%</td> \n",
       "    </tr>    <tr> \n",
       "        <th id=\"T_358e8de0_4b51_11e9_a53d_acde48001122level0_row2\" class=\"row_heading level0 row2\" >Large (2000-5000)</th> \n",
       "        <td id=\"T_358e8de0_4b51_11e9_a53d_acde48001122row2_col0\" class=\"data row2 col0\" >77.5</td> \n",
       "        <td id=\"T_358e8de0_4b51_11e9_a53d_acde48001122row2_col1\" class=\"data row2 col1\" >77.5</td> \n",
       "        <td id=\"T_358e8de0_4b51_11e9_a53d_acde48001122row2_col2\" class=\"data row2 col2\" >68.7%</td> \n",
       "        <td id=\"T_358e8de0_4b51_11e9_a53d_acde48001122row2_col3\" class=\"data row2 col3\" >82.1%</td> \n",
       "        <td id=\"T_358e8de0_4b51_11e9_a53d_acde48001122row2_col4\" class=\"data row2 col4\" >56.6%</td> \n",
       "    </tr></tbody> \n",
       "</table> "
      ],
      "text/plain": [
       "<pandas.io.formats.style.Styler at 0x120ea64e0>"
      ]
     },
     "execution_count": 28,
     "metadata": {},
     "output_type": "execute_result"
    }
   ],
   "source": [
    "#Formating\n",
    "scores_by_size.style.format({'Average Math Score': '{:.1f}', \n",
    "                              'Average Reading Score': '{:.1f}', \n",
    "                              '% Passing Math': '{:.1%}', \n",
    "                              '% Passing Reading':'{:.1%}', \n",
    "                              '% Overall Passing Rate': '{:.1%}'})"
   ]
  },
  {
   "cell_type": "markdown",
   "metadata": {},
   "source": [
    "## Scores by School Type"
   ]
  },
  {
   "cell_type": "markdown",
   "metadata": {},
   "source": [
    "* Perform the same operations as above, based on school type."
   ]
  },
  {
   "cell_type": "code",
   "execution_count": 29,
   "metadata": {},
   "outputs": [],
   "source": [
    "# Group by Type of School\n",
    "school_type_group = school_data_complete.groupby(\"type\")"
   ]
  },
  {
   "cell_type": "code",
   "execution_count": 30,
   "metadata": {},
   "outputs": [],
   "source": [
    "#Create variables for calculations\n",
    "average_math_type = school_type_group['math_score'].mean()\n",
    "average_reading_type = school_type_group['math_score'].mean()\n",
    "passing_math_type = school_data_complete[school_data_complete['math_score'] >= 70].groupby('type')['Student ID'].count()/school_type_group['Student ID'].count()\n",
    "passing_reading_type = school_data_complete[school_data_complete['reading_score'] >= 70].groupby('type')['Student ID'].count()/school_type_group['Student ID'].count()\n",
    "overall_type = school_data_complete[(school_data_complete['reading_score'] >= 70) & (school_data_complete['math_score'] >= 70)].groupby('type')['Student ID'].count()/school_type_group['Student ID'].count()\n"
   ]
  },
  {
   "cell_type": "code",
   "execution_count": 31,
   "metadata": {},
   "outputs": [],
   "source": [
    "#Create DataFrame           \n",
    "scores_by_type = pd.DataFrame({\n",
    "    \"Average Math Score\": average_math_type,\n",
    "    \"Average Reading Score\": average_reading_type,\n",
    "    \"% Passing Math\": passing_math_type,\n",
    "    \"% Passing Reading\": passing_reading_type,\n",
    "    \"% Overall Passing Rate\": overall_type})"
   ]
  },
  {
   "cell_type": "code",
   "execution_count": 32,
   "metadata": {},
   "outputs": [],
   "source": [
    "#Reorganize columns\n",
    "scores_by_type = scores_by_type[[\"Average Math Score\",\n",
    "                                 \"Average Reading Score\",\n",
    "                                 \"% Passing Math\",\n",
    "                                 \"% Passing Reading\",\n",
    "                                 \"% Overall Passing Rate\"]]\n",
    "scores_by_type.index.name = \"Type of School\""
   ]
  },
  {
   "cell_type": "code",
   "execution_count": 33,
   "metadata": {},
   "outputs": [
    {
     "data": {
      "text/html": [
       "<style  type=\"text/css\" >\n",
       "</style>  \n",
       "<table id=\"T_3596bc54_4b51_11e9_a53d_acde48001122\" > \n",
       "<thead>    <tr> \n",
       "        <th class=\"blank level0\" ></th> \n",
       "        <th class=\"col_heading level0 col0\" >Average Math Score</th> \n",
       "        <th class=\"col_heading level0 col1\" >Average Reading Score</th> \n",
       "        <th class=\"col_heading level0 col2\" >% Passing Math</th> \n",
       "        <th class=\"col_heading level0 col3\" >% Passing Reading</th> \n",
       "        <th class=\"col_heading level0 col4\" >% Overall Passing Rate</th> \n",
       "    </tr>    <tr> \n",
       "        <th class=\"index_name level0\" >Type of School</th> \n",
       "        <th class=\"blank\" ></th> \n",
       "        <th class=\"blank\" ></th> \n",
       "        <th class=\"blank\" ></th> \n",
       "        <th class=\"blank\" ></th> \n",
       "        <th class=\"blank\" ></th> \n",
       "    </tr></thead> \n",
       "<tbody>    <tr> \n",
       "        <th id=\"T_3596bc54_4b51_11e9_a53d_acde48001122level0_row0\" class=\"row_heading level0 row0\" >Charter</th> \n",
       "        <td id=\"T_3596bc54_4b51_11e9_a53d_acde48001122row0_col0\" class=\"data row0 col0\" >83.4</td> \n",
       "        <td id=\"T_3596bc54_4b51_11e9_a53d_acde48001122row0_col1\" class=\"data row0 col1\" >83.4</td> \n",
       "        <td id=\"T_3596bc54_4b51_11e9_a53d_acde48001122row0_col2\" class=\"data row0 col2\" >93.7%</td> \n",
       "        <td id=\"T_3596bc54_4b51_11e9_a53d_acde48001122row0_col3\" class=\"data row0 col3\" >96.6%</td> \n",
       "        <td id=\"T_3596bc54_4b51_11e9_a53d_acde48001122row0_col4\" class=\"data row0 col4\" >0.905609</td> \n",
       "    </tr>    <tr> \n",
       "        <th id=\"T_3596bc54_4b51_11e9_a53d_acde48001122level0_row1\" class=\"row_heading level0 row1\" >District</th> \n",
       "        <td id=\"T_3596bc54_4b51_11e9_a53d_acde48001122row1_col0\" class=\"data row1 col0\" >77.0</td> \n",
       "        <td id=\"T_3596bc54_4b51_11e9_a53d_acde48001122row1_col1\" class=\"data row1 col1\" >77.0</td> \n",
       "        <td id=\"T_3596bc54_4b51_11e9_a53d_acde48001122row1_col2\" class=\"data row1 col2\" >66.5%</td> \n",
       "        <td id=\"T_3596bc54_4b51_11e9_a53d_acde48001122row1_col3\" class=\"data row1 col3\" >80.9%</td> \n",
       "        <td id=\"T_3596bc54_4b51_11e9_a53d_acde48001122row1_col4\" class=\"data row1 col4\" >0.536959</td> \n",
       "    </tr></tbody> \n",
       "</table> "
      ],
      "text/plain": [
       "<pandas.io.formats.style.Styler at 0x120f632b0>"
      ]
     },
     "execution_count": 33,
     "metadata": {},
     "output_type": "execute_result"
    }
   ],
   "source": [
    "#Formating\n",
    "scores_by_type.style.format({'Average Math Score': '{:.1f}', \n",
    "                              'Average Reading Score': '{:.1f}', \n",
    "                              '% Passing Math': '{:.1%}', \n",
    "                              '% Passing Reading':'{:.1%}', \n",
    "                              '%Overall Passing Rate': '{:.1%}'})"
   ]
  },
  {
   "cell_type": "markdown",
   "metadata": {},
   "source": [
    "## Observations"
   ]
  },
  {
   "cell_type": "markdown",
   "metadata": {},
   "source": [
    "1.) The first trend I noticed after filtering through all of this data is it appears that generally the smaller of a school you go to, the better you tend to do in school. Schools of 1000 students or less had higher scores across the board, with socres only dropping as you climb every level of school size. Particularly in the math scores you see a significant difference between school sizes."
   ]
  },
  {
   "cell_type": "markdown",
   "metadata": {},
   "source": [
    "2.) The second trend I noticed is after filtering the data of budget per student, it appears that the more you spend on a student the worse off they are. One would expect the more you spend on a student the better their education would be so this outcome was surprising. The range of spending is not very significant when you notice that from bottom to top tier there is only about a difference of $100, and we do not have details on how exactly that money was allocated. If a majority went to school uniforms, then that would most likely have less of an effect if say the extra money was put towards hiring a private tutor."
   ]
  }
 ],
 "metadata": {
  "anaconda-cloud": {},
  "kernel_info": {
   "name": "python3"
  },
  "kernelspec": {
   "display_name": "Python 3",
   "language": "python",
   "name": "python3"
  },
  "language_info": {
   "codemirror_mode": {
    "name": "ipython",
    "version": 3
   },
   "file_extension": ".py",
   "mimetype": "text/x-python",
   "name": "python",
   "nbconvert_exporter": "python",
   "pygments_lexer": "ipython3",
   "version": "3.7.1"
  },
  "nteract": {
   "version": "0.8.4"
  }
 },
 "nbformat": 4,
 "nbformat_minor": 1
}
